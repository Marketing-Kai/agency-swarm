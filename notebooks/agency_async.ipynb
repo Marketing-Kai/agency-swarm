{
 "cells": [
  {
   "cell_type": "markdown",
   "id": "2c4b19dbe5ae6302",
   "metadata": {
    "collapsed": false
   },
   "source": [
    "# Make sure you have the latest version of agency-swarm installed\n",
    "You can uninstall the old version with `pip uninstall agency-swarm` and install the latest version with `pip install agency-swarm`"
   ]
  },
  {
   "cell_type": "code",
   "execution_count": 8,
   "id": "a16ee4220f5ab03a",
   "metadata": {
    "ExecuteTime": {
     "end_time": "2024-01-29T03:34:23.557863Z",
     "start_time": "2024-01-29T03:34:23.157979Z"
    },
    "collapsed": false
   },
   "outputs": [
    {
     "ename": "ModuleNotFoundError",
     "evalue": "No module named 'agents'",
     "output_type": "error",
     "traceback": [
      "\u001b[0;31m---------------------------------------------------------------------------\u001b[0m",
      "\u001b[0;31mModuleNotFoundError\u001b[0m                       Traceback (most recent call last)",
      "Cell \u001b[0;32mIn[8], line 14\u001b[0m\n\u001b[1;32m      8\u001b[0m test \u001b[38;5;241m=\u001b[39m Agent(name\u001b[38;5;241m=\u001b[39m\u001b[38;5;124m\"\u001b[39m\u001b[38;5;124mTest Agent\u001b[39m\u001b[38;5;124m\"\u001b[39m,\n\u001b[1;32m      9\u001b[0m             description\u001b[38;5;241m=\u001b[39m\u001b[38;5;124m\"\u001b[39m\u001b[38;5;124mTest agent\u001b[39m\u001b[38;5;124m\"\u001b[39m,\n\u001b[1;32m     10\u001b[0m             instructions\u001b[38;5;241m=\u001b[39m\u001b[38;5;124m\"\u001b[39m\u001b[38;5;124mPlease always respond with \u001b[39m\u001b[38;5;124m'\u001b[39m\u001b[38;5;124mtest complete\u001b[39m\u001b[38;5;124m'\u001b[39m\u001b[38;5;124m\"\u001b[39m, \u001b[38;5;66;03m# can be a file like ./instructions.md\u001b[39;00m\n\u001b[1;32m     11\u001b[0m             tools\u001b[38;5;241m=\u001b[39m[])\n\u001b[1;32m     13\u001b[0m \u001b[38;5;66;03m# Neue Agenten initialisieren\u001b[39;00m\n\u001b[0;32m---> 14\u001b[0m \u001b[38;5;28;01mfrom\u001b[39;00m \u001b[38;5;21;01magents\u001b[39;00m\u001b[38;5;21;01m.\u001b[39;00m\u001b[38;5;21;01mtemplate_agent\u001b[39;00m \u001b[38;5;28;01mimport\u001b[39;00m DataAnalysisAgent, DatabaseAutomationAgent\n\u001b[1;32m     15\u001b[0m data_analysis_agent \u001b[38;5;241m=\u001b[39m DataAnalysisAgent(name\u001b[38;5;241m=\u001b[39m\u001b[38;5;124m\"\u001b[39m\u001b[38;5;124mData Analysis Agent\u001b[39m\u001b[38;5;124m\"\u001b[39m)\n\u001b[1;32m     16\u001b[0m database_automation_agent \u001b[38;5;241m=\u001b[39m DatabaseAutomationAgent(name\u001b[38;5;241m=\u001b[39m\u001b[38;5;124m\"\u001b[39m\u001b[38;5;124mDatabase Automation Agent\u001b[39m\u001b[38;5;124m\"\u001b[39m)\n",
      "\u001b[0;31mModuleNotFoundError\u001b[0m: No module named 'agents'"
     ]
    }
   ],
   "source": [
    "from agency_swarm import Agent, Agency\n",
    "\n",
    "ceo = Agent(name=\"CEO\",\n",
    "            description=\"Responsible for client communication, task planning and management.\",\n",
    "            instructions=\"You must converse with other agents to ensure complete task execution.\", # can be a file like ./instructions.md\n",
    "            tools=[])\n",
    "\n",
    "test = Agent(name=\"Test Agent\",\n",
    "            description=\"Test agent\",\n",
    "            instructions=\"Please always respond with 'test complete'\", # can be a file like ./instructions.md\n",
    "            tools=[])\n",
    "\n",
    "# Neue Agenten initialisieren\n",
    "from agents.template_agent import DataAnalysisAgent, DatabaseAutomationAgent\n",
    "data_analysis_agent = DataAnalysisAgent(name=\"Data Analysis Agent\")\n",
    "database_automation_agent = DatabaseAutomationAgent(name=\"Database Automation Agent\")"
   ]
  },
  {
   "cell_type": "code",
   "execution_count": 9,
   "id": "82e3b4aa",
   "metadata": {},
   "outputs": [
    {
     "ename": "ModuleNotFoundError",
     "evalue": "No module named 'agents'",
     "output_type": "error",
     "traceback": [
      "\u001b[0;31m---------------------------------------------------------------------------\u001b[0m",
      "\u001b[0;31mModuleNotFoundError\u001b[0m                       Traceback (most recent call last)",
      "Cell \u001b[0;32mIn[9], line 20\u001b[0m\n\u001b[1;32m     12\u001b[0m test_agent \u001b[38;5;241m=\u001b[39m Agent(\n\u001b[1;32m     13\u001b[0m     name\u001b[38;5;241m=\u001b[39m\u001b[38;5;124m\"\u001b[39m\u001b[38;5;124mTest Agent\u001b[39m\u001b[38;5;124m\"\u001b[39m,\n\u001b[1;32m     14\u001b[0m     description\u001b[38;5;241m=\u001b[39m\u001b[38;5;124m\"\u001b[39m\u001b[38;5;124mTest agent\u001b[39m\u001b[38;5;124m\"\u001b[39m,\n\u001b[1;32m     15\u001b[0m     instructions\u001b[38;5;241m=\u001b[39m\u001b[38;5;124m\"\u001b[39m\u001b[38;5;124mPlease always respond with \u001b[39m\u001b[38;5;124m'\u001b[39m\u001b[38;5;124mtest complete\u001b[39m\u001b[38;5;124m'\u001b[39m\u001b[38;5;124m\"\u001b[39m,\n\u001b[1;32m     16\u001b[0m     tools\u001b[38;5;241m=\u001b[39m[]\n\u001b[1;32m     17\u001b[0m )\n\u001b[1;32m     19\u001b[0m \u001b[38;5;66;03m# Initialisierung weiterer Agenten\u001b[39;00m\n\u001b[0;32m---> 20\u001b[0m \u001b[38;5;28;01mfrom\u001b[39;00m \u001b[38;5;21;01magents\u001b[39;00m\u001b[38;5;21;01m.\u001b[39;00m\u001b[38;5;21;01mtemplate_agent\u001b[39;00m \u001b[38;5;28;01mimport\u001b[39;00m DataAnalysisAgent, DatabaseAutomationAgent\n\u001b[1;32m     22\u001b[0m data_analysis_agent \u001b[38;5;241m=\u001b[39m DataAnalysisAgent(name\u001b[38;5;241m=\u001b[39m\u001b[38;5;124m\"\u001b[39m\u001b[38;5;124mData Analysis Agent\u001b[39m\u001b[38;5;124m\"\u001b[39m)\n\u001b[1;32m     23\u001b[0m database_automation_agent \u001b[38;5;241m=\u001b[39m DatabaseAutomationAgent(name\u001b[38;5;241m=\u001b[39m\u001b[38;5;124m\"\u001b[39m\u001b[38;5;124mDatabase Automation Agent\u001b[39m\u001b[38;5;124m\"\u001b[39m)\n",
      "\u001b[0;31mModuleNotFoundError\u001b[0m: No module named 'agents'"
     ]
    }
   ],
   "source": [
    "from agency_swarm import Agent, Agency\n",
    "\n",
    "# Definition des CEO-Agenten\n",
    "ceo = Agent(\n",
    "    name=\"CEO\",\n",
    "    description=\"Responsible for client communication, task planning, and management.\",\n",
    "    instructions=\"You must converse with other agents to ensure complete task execution.\",\n",
    "    tools=[]\n",
    ")\n",
    "\n",
    "# Definition eines Test-Agenten\n",
    "test_agent = Agent(\n",
    "    name=\"Test Agent\",\n",
    "    description=\"Test agent\",\n",
    "    instructions=\"Please always respond with 'test complete'\",\n",
    "    tools=[]\n",
    ")\n",
    "\n",
    "# Initialisierung weiterer Agenten\n",
    "from agents.template_agent import DataAnalysisAgent, DatabaseAutomationAgent\n",
    "\n",
    "data_analysis_agent = DataAnalysisAgent(name=\"Data Analysis Agent\")\n",
    "database_automation_agent = DatabaseAutomationAgent(name=\"Database Automation Agent\")\n",
    "\n",
    "# Erstellen einer Agency und Hinzufügen der Agenten\n",
    "agency = Agency(agents=[ceo, test_agent, data_analysis_agent, database_automation_agent])\n",
    "\n",
    "# Funktion zur Ausführung der Agenten\n",
    "def run_agency():\n",
    "    agency.run()\n",
    "\n",
    "# Ausführung der Agency\n",
    "if __name__ == \"__main__\":\n",
    "    run_agency()"
   ]
  },
  {
   "cell_type": "markdown",
   "id": "8d99382d99b7a8ac",
   "metadata": {
    "collapsed": false
   },
   "source": [
    "## Loading agents and threads from DB example"
   ]
  },
  {
   "cell_type": "code",
   "execution_count": null,
   "id": "ba3f9da173f7a0b6",
   "metadata": {
    "collapsed": false
   },
   "outputs": [],
   "source": [
    "# threads is an object\n",
    "threads = {}\n",
    "\n",
    "def load_threads():\n",
    "    # your code to load threads from DB here\n",
    "    # we simply use a global variable for this example\n",
    "    global threads\n",
    "    return threads\n",
    "\n",
    "def save_threads(new_threads):\n",
    "    # your code to save new_threads to DB here\n",
    "    global threads\n",
    "    threads = new_threads"
   ]
  },
  {
   "cell_type": "code",
   "execution_count": null,
   "id": "7920db25caf29803",
   "metadata": {
    "collapsed": false
   },
   "outputs": [],
   "source": [
    "# settings is an array of objects with your agent settings\n",
    "settings = []\n",
    "\n",
    "def load_settings():\n",
    "    # your code to load settings from DB here\n",
    "    # we simply use a global variable for this example\n",
    "    global settings\n",
    "    return settings\n",
    "\n",
    "def save_settings(new_settings):\n",
    "    # your code to save new_settings to DB here\n",
    "    global settings\n",
    "    settings = new_settings"
   ]
  },
  {
   "cell_type": "markdown",
   "id": "88734e5628b23466",
   "metadata": {
    "collapsed": false
   },
   "source": [
    "## Creating agency with loaded agents and threads"
   ]
  },
  {
   "cell_type": "code",
   "execution_count": null,
   "id": "a65a5acb4bc6bbc3",
   "metadata": {
    "collapsed": false
   },
   "outputs": [],
   "source": [
    "agency = Agency([ceo, [ceo, test]], \n",
    "                async_mode='threading', # only threading is supported for now\n",
    "                threads_callbacks={'load': load_threads, 'save': save_threads},\n",
    "                settings_callbacks={'load': load_settings, 'save': save_settings})"
   ]
  },
  {
   "cell_type": "code",
   "execution_count": null,
   "id": "f578f37d8b261559",
   "metadata": {
    "ExecuteTime": {
     "end_time": "2024-01-23T04:17:09.976706Z",
     "start_time": "2024-01-23T04:17:01.254030Z"
    },
    "collapsed": false
   },
   "outputs": [
    {
     "name": "stdout",
     "output_type": "stream",
     "text": [
      "THREAD:[ user -> CEO ]: URL https://platform.openai.com/playground/assistants?assistant=asst_5Wrr0mceNUGvbojKvVP1t9TM&mode=assistant&thread=thread_L3czUsi2ddHfHHL7g6B8fPkI\n",
      "THREAD:[ CEO -> Test Agent ]: URL https://platform.openai.com/playground/assistants?assistant=asst_F8oyM4CUfeIU2UrfdSrMKPkJ&mode=assistant&thread=thread_l6IjhIwVcCmtgb6hVVRgLhkN\n"
     ]
    },
    {
     "data": {
      "text/plain": [
       "\"I've sent a greeting to the test agent. Let me know when you'd like me to check for a response.\""
      ]
     },
     "execution_count": 5,
     "metadata": {},
     "output_type": "execute_result"
    }
   ],
   "source": [
    "agency.get_completion(\"Say hi to test agent\", yield_messages=False)"
   ]
  },
  {
   "cell_type": "code",
   "execution_count": null,
   "id": "fc798bc6c58c9c16",
   "metadata": {
    "ExecuteTime": {
     "end_time": "2024-01-23T04:17:37.434522Z",
     "start_time": "2024-01-23T04:17:30.450008Z"
    },
    "collapsed": false
   },
   "outputs": [
    {
     "name": "stdout",
     "output_type": "stream",
     "text": [
      "THREAD:[ user -> CEO ]: URL https://platform.openai.com/playground/assistants?assistant=asst_5Wrr0mceNUGvbojKvVP1t9TM&mode=assistant&thread=thread_L3czUsi2ddHfHHL7g6B8fPkI\n"
     ]
    },
    {
     "data": {
      "text/plain": [
       "'The test agent has responded with \"test complete.\"'"
      ]
     },
     "execution_count": 6,
     "metadata": {},
     "output_type": "execute_result"
    }
   ],
   "source": [
    "agency.get_completion(\"Check status\", yield_messages=False)"
   ]
  },
  {
   "cell_type": "code",
   "execution_count": null,
   "id": "6ef9050ecc718655",
   "metadata": {
    "ExecuteTime": {
     "end_time": "2024-01-21T03:36:13.946078Z",
     "start_time": "2024-01-21T03:36:13.843445Z"
    },
    "collapsed": false
   },
   "outputs": [
    {
     "name": "stderr",
     "output_type": "stream",
     "text": [
      "/Users/khu/anaconda3/envs/agency-swarm/lib/python3.10/site-packages/tqdm/auto.py:21: TqdmWarning: IProgress not found. Please update jupyter and ipywidgets. See https://ipywidgets.readthedocs.io/en/stable/user_install.html\n",
      "  from .autonotebook import tqdm as notebook_tqdm\n"
     ]
    },
    {
     "name": "stdout",
     "output_type": "stream",
     "text": [
      "Running on local URL:  http://127.0.0.1:7860\n",
      "\n",
      "To create a public link, set `share=True` in `launch()`.\n"
     ]
    },
    {
     "data": {
      "text/html": [
       "<div><iframe src=\"http://127.0.0.1:7860/\" width=\"100%\" height=\"500\" allow=\"autoplay; camera; microphone; clipboard-read; clipboard-write;\" frameborder=\"0\" allowfullscreen></iframe></div>"
      ],
      "text/plain": [
       "<IPython.core.display.HTML object>"
      ]
     },
     "metadata": {},
     "output_type": "display_data"
    },
    {
     "data": {
      "text/plain": [
       "Gradio Blocks instance: 6 backend functions\n",
       "-------------------------------------------\n",
       "fn_index=0\n",
       " inputs:\n",
       " |-<gradio.components.textbox.Textbox object at 0x10f97fd00>\n",
       " |-<gradio.components.chatbot.Chatbot object at 0x10f9080a0>\n",
       " outputs:\n",
       " |-<gradio.components.textbox.Textbox object at 0x10f97fd00>\n",
       " |-<gradio.components.chatbot.Chatbot object at 0x10f9080a0>\n",
       "fn_index=1\n",
       " inputs:\n",
       " |-<gradio.components.textbox.Textbox object at 0x10f97fd00>\n",
       " |-<gradio.components.chatbot.Chatbot object at 0x10f9080a0>\n",
       " outputs:\n",
       " |-<gradio.components.textbox.Textbox object at 0x10f97fd00>\n",
       " |-<gradio.components.chatbot.Chatbot object at 0x10f9080a0>\n",
       "fn_index=2\n",
       " inputs:\n",
       " |-<gradio.components.dropdown.Dropdown object at 0x10f97d930>\n",
       " outputs:\n",
       "fn_index=3\n",
       " inputs:\n",
       " |-<gradio.templates.Files object at 0x10f9a9540>\n",
       " outputs:\n",
       "fn_index=4\n",
       " inputs:\n",
       " |-<gradio.components.textbox.Textbox object at 0x10f97fd00>\n",
       " |-<gradio.components.chatbot.Chatbot object at 0x10f9080a0>\n",
       " outputs:\n",
       " |-<gradio.components.textbox.Textbox object at 0x10f97fd00>\n",
       " |-<gradio.components.chatbot.Chatbot object at 0x10f9080a0>\n",
       "fn_index=5\n",
       " inputs:\n",
       " |-<gradio.components.textbox.Textbox object at 0x10f97fd00>\n",
       " |-<gradio.components.chatbot.Chatbot object at 0x10f9080a0>\n",
       " outputs:\n",
       " |-<gradio.components.textbox.Textbox object at 0x10f97fd00>\n",
       " |-<gradio.components.chatbot.Chatbot object at 0x10f9080a0>"
      ]
     },
     "execution_count": 7,
     "metadata": {},
     "output_type": "execute_result"
    },
    {
     "name": "stdout",
     "output_type": "stream",
     "text": [
      "Message files:  []\n",
      "Images:  []\n",
      "THREAD:[ user -> CEO ]: URL https://platform.openai.com/playground/assistants?assistant=asst_5Wrr0mceNUGvbojKvVP1t9TM&mode=assistant&thread=thread_L3czUsi2ddHfHHL7g6B8fPkI\n",
      "Message files:  []\n",
      "Images:  []\n",
      "THREAD:[ user -> CEO ]: URL https://platform.openai.com/playground/assistants?assistant=asst_5Wrr0mceNUGvbojKvVP1t9TM&mode=assistant&thread=thread_L3czUsi2ddHfHHL7g6B8fPkI\n",
      "Message files:  []\n",
      "Images:  []\n",
      "THREAD:[ user -> CEO ]: URL https://platform.openai.com/playground/assistants?assistant=asst_5Wrr0mceNUGvbojKvVP1t9TM&mode=assistant&thread=thread_L3czUsi2ddHfHHL7g6B8fPkI\n",
      "Uploaded file ID: file-q3TvLZO3Ghgu3hJUrrI0FXkd\n",
      "Uploaded file ID: file-9R0WuNzkPu16Cs6svbOJhsyK\n",
      "Uploaded file ID: file-lFnFQQtdZNgX7iNbCxZcImQo\n",
      "Uploaded file ID: file-xS94rARspYpRc2E9EPgnkFjx\n",
      "Uploaded file ID: file-kkphE4wnZBA7pMB4qnUvnTdq\n",
      "Added FileSearch tool to recipient agent to analyze the file.\n",
      "Added FileSearch tool to recipient agent to analyze the file.\n",
      "Added FileSearch tool to recipient agent to analyze the file.\n",
      "Added FileSearch tool to recipient agent to analyze the file.\n",
      "Added FileSearch tool to recipient agent to analyze the file.\n",
      "Message files:  [{'file_id': 'file-q3TvLZO3Ghgu3hJUrrI0FXkd', 'tools': [{'type': 'file_search'}]}, {'file_id': 'file-9R0WuNzkPu16Cs6svbOJhsyK', 'tools': [{'type': 'file_search'}]}, {'file_id': 'file-lFnFQQtdZNgX7iNbCxZcImQo', 'tools': [{'type': 'file_search'}]}, {'file_id': 'file-xS94rARspYpRc2E9EPgnkFjx', 'tools': [{'type': 'file_search'}]}, {'file_id': 'file-kkphE4wnZBA7pMB4qnUvnTdq', 'tools': [{'type': 'file_search'}]}]\n",
      "Images:  []\n",
      "THREAD:[ user -> CEO ]: URL https://platform.openai.com/playground/assistants?assistant=asst_5Wrr0mceNUGvbojKvVP1t9TM&mode=assistant&thread=thread_L3czUsi2ddHfHHL7g6B8fPkI\n",
      "Message files:  []\n",
      "Images:  []\n",
      "THREAD:[ user -> CEO ]: URL https://platform.openai.com/playground/assistants?assistant=asst_5Wrr0mceNUGvbojKvVP1t9TM&mode=assistant&thread=thread_L3czUsi2ddHfHHL7g6B8fPkI\n",
      "Uploaded file ID: file-PurhxVhhiU4rLKxFSmvaEq6k\n",
      "Added CodeInterpreter tool to recipient agent to analyze the file.\n",
      "Message files:  [{'file_id': 'file-PurhxVhhiU4rLKxFSmvaEq6k', 'tools': [{'type': 'code_interpreter'}]}]\n",
      "Images:  []\n",
      "THREAD:[ user -> CEO ]: URL https://platform.openai.com/playground/assistants?assistant=asst_5Wrr0mceNUGvbojKvVP1t9TM&mode=assistant&thread=thread_L3czUsi2ddHfHHL7g6B8fPkI\n",
      "Uploaded file ID: file-KJHcnIEzecVBJyqa6nMhklwD\n",
      "Added CodeInterpreter tool to recipient agent to analyze the file.\n",
      "Message files:  [{'file_id': 'file-KJHcnIEzecVBJyqa6nMhklwD', 'tools': [{'type': 'code_interpreter'}]}]\n",
      "Images:  []\n",
      "THREAD:[ user -> CEO ]: URL https://platform.openai.com/playground/assistants?assistant=asst_5Wrr0mceNUGvbojKvVP1t9TM&mode=assistant&thread=thread_L3czUsi2ddHfHHL7g6B8fPkI\n",
      "Message files:  []\n",
      "Images:  []\n",
      "THREAD:[ user -> CEO ]: URL https://platform.openai.com/playground/assistants?assistant=asst_5Wrr0mceNUGvbojKvVP1t9TM&mode=assistant&thread=thread_L3czUsi2ddHfHHL7g6B8fPkI\n",
      "Message files:  []\n",
      "Images:  []\n",
      "THREAD:[ user -> CEO ]: URL https://platform.openai.com/playground/assistants?assistant=asst_5Wrr0mceNUGvbojKvVP1t9TM&mode=assistant&thread=thread_L3czUsi2ddHfHHL7g6B8fPkI\n",
      "Message files:  []\n",
      "Images:  []\n",
      "THREAD:[ user -> CEO ]: URL https://platform.openai.com/playground/assistants?assistant=asst_5Wrr0mceNUGvbojKvVP1t9TM&mode=assistant&thread=thread_L3czUsi2ddHfHHL7g6B8fPkI\n",
      "THREAD:[ CEO -> Test Agent ]: URL https://platform.openai.com/playground/assistants?assistant=asst_F8oyM4CUfeIU2UrfdSrMKPkJ&mode=assistant&thread=thread_l6IjhIwVcCmtgb6hVVRgLhkN\n",
      "Message files:  []\n",
      "Images:  []\n",
      "THREAD:[ user -> CEO ]: URL https://platform.openai.com/playground/assistants?assistant=asst_5Wrr0mceNUGvbojKvVP1t9TM&mode=assistant&thread=thread_L3czUsi2ddHfHHL7g6B8fPkI\n",
      "THREAD:[ CEO -> Test Agent ]: URL https://platform.openai.com/playground/assistants?assistant=asst_F8oyM4CUfeIU2UrfdSrMKPkJ&mode=assistant&thread=thread_l6IjhIwVcCmtgb6hVVRgLhkN\n",
      "Message files:  []\n",
      "Images:  []\n",
      "THREAD:[ user -> CEO ]: URL https://platform.openai.com/playground/assistants?assistant=asst_5Wrr0mceNUGvbojKvVP1t9TM&mode=assistant&thread=thread_L3czUsi2ddHfHHL7g6B8fPkI\n",
      "Message files:  []\n",
      "Images:  []\n",
      "THREAD:[ user -> CEO ]: URL https://platform.openai.com/playground/assistants?assistant=asst_5Wrr0mceNUGvbojKvVP1t9TM&mode=assistant&thread=thread_L3czUsi2ddHfHHL7g6B8fPkI\n",
      "Message files:  []\n",
      "Images:  []\n",
      "THREAD:[ user -> CEO ]: URL https://platform.openai.com/playground/assistants?assistant=asst_5Wrr0mceNUGvbojKvVP1t9TM&mode=assistant&thread=thread_L3czUsi2ddHfHHL7g6B8fPkI\n",
      "THREAD:[ CEO -> Test Agent ]: URL https://platform.openai.com/playground/assistants?assistant=asst_F8oyM4CUfeIU2UrfdSrMKPkJ&mode=assistant&thread=thread_l6IjhIwVcCmtgb6hVVRgLhkN\n",
      "Message files:  []\n",
      "Images:  []\n",
      "THREAD:[ user -> CEO ]: URL https://platform.openai.com/playground/assistants?assistant=asst_5Wrr0mceNUGvbojKvVP1t9TM&mode=assistant&thread=thread_L3czUsi2ddHfHHL7g6B8fPkI\n",
      "THREAD:[ CEO -> Test Agent ]: URL https://platform.openai.com/playground/assistants?assistant=asst_F8oyM4CUfeIU2UrfdSrMKPkJ&mode=assistant&thread=thread_l6IjhIwVcCmtgb6hVVRgLhkN\n",
      "Message files:  []\n",
      "Images:  []\n",
      "THREAD:[ user -> CEO ]: URL https://platform.openai.com/playground/assistants?assistant=asst_5Wrr0mceNUGvbojKvVP1t9TM&mode=assistant&thread=thread_L3czUsi2ddHfHHL7g6B8fPkI\n",
      "THREAD:[ CEO -> Test Agent ]: URL https://platform.openai.com/playground/assistants?assistant=asst_F8oyM4CUfeIU2UrfdSrMKPkJ&mode=assistant&thread=thread_l6IjhIwVcCmtgb6hVVRgLhkN\n",
      "Uploaded file ID: file-7qtYT3yYkeJDo9PSsFsMMJME\n",
      "Added CodeInterpreter tool to recipient agent to analyze the file.\n",
      "Message files:  [{'file_id': 'file-7qtYT3yYkeJDo9PSsFsMMJME', 'tools': [{'type': 'code_interpreter'}]}]\n",
      "Images:  []\n",
      "THREAD:[ user -> CEO ]: URL https://platform.openai.com/playground/assistants?assistant=asst_5Wrr0mceNUGvbojKvVP1t9TM&mode=assistant&thread=thread_L3czUsi2ddHfHHL7g6B8fPkI\n",
      "THREAD:[ CEO -> Test Agent ]: URL https://platform.openai.com/playground/assistants?assistant=asst_F8oyM4CUfeIU2UrfdSrMKPkJ&mode=assistant&thread=thread_l6IjhIwVcCmtgb6hVVRgLhkN\n",
      "Message files:  []\n",
      "Images:  []\n",
      "THREAD:[ user -> CEO ]: URL https://platform.openai.com/playground/assistants?assistant=asst_5Wrr0mceNUGvbojKvVP1t9TM&mode=assistant&thread=thread_L3czUsi2ddHfHHL7g6B8fPkI\n",
      "THREAD:[ CEO -> Test Agent ]: URL https://platform.openai.com/playground/assistants?assistant=asst_F8oyM4CUfeIU2UrfdSrMKPkJ&mode=assistant&thread=thread_l6IjhIwVcCmtgb6hVVRgLhkN\n",
      "Message files:  []\n",
      "Images:  []\n",
      "THREAD:[ user -> CEO ]: URL https://platform.openai.com/playground/assistants?assistant=asst_5Wrr0mceNUGvbojKvVP1t9TM&mode=assistant&thread=thread_L3czUsi2ddHfHHL7g6B8fPkI\n",
      "Message files:  []\n",
      "Images:  []\n",
      "THREAD:[ user -> CEO ]: URL https://platform.openai.com/playground/assistants?assistant=asst_5Wrr0mceNUGvbojKvVP1t9TM&mode=assistant&thread=thread_L3czUsi2ddHfHHL7g6B8fPkI\n",
      "Message files:  []\n",
      "Images:  []\n",
      "THREAD:[ user -> CEO ]: URL https://platform.openai.com/playground/assistants?assistant=asst_5Wrr0mceNUGvbojKvVP1t9TM&mode=assistant&thread=thread_L3czUsi2ddHfHHL7g6B8fPkI\n",
      "Message files:  []\n",
      "Images:  []\n",
      "THREAD:[ user -> CEO ]: URL https://platform.openai.com/playground/assistants?assistant=asst_5Wrr0mceNUGvbojKvVP1t9TM&mode=assistant&thread=thread_L3czUsi2ddHfHHL7g6B8fPkI\n"
     ]
    },
    {
     "name": "stderr",
     "output_type": "stream",
     "text": [
      "Exception in thread Thread-38 (get_completion_stream):\n",
      "Traceback (most recent call last):\n",
      "  File \"/Users/khu/anaconda3/envs/agency-swarm/lib/python3.10/threading.py\", line 1016, in _bootstrap_inner\n",
      "    self.run()\n",
      "  File \"/Users/khu/anaconda3/envs/agency-swarm/lib/python3.10/threading.py\", line 953, in run\n",
      "    self._target(*self._args, **self._kwargs)\n",
      "  File \"/Users/khu/anaconda3/envs/agency-swarm/lib/python3.10/site-packages/agency_swarm/agency/agency.py\", line 196, in get_completion_stream\n",
      "    next(res)\n",
      "  File \"/Users/khu/anaconda3/envs/agency-swarm/lib/python3.10/site-packages/agency_swarm/threads/thread.py\", line 214, in get_completion\n",
      "    last_message = message_obj.content[0].text.value\n",
      "  File \"/Users/khu/anaconda3/envs/agency-swarm/lib/python3.10/site-packages/pydantic/main.py\", line 828, in __getattr__\n",
      "    raise AttributeError(f'{type(self).__name__!r} object has no attribute {item!r}')\n",
      "AttributeError: 'ImageFileContentBlock' object has no attribute 'text'\n"
     ]
    }
   ],
   "source": [
    "agency.demo_gradio()"
   ]
  },
  {
   "cell_type": "code",
   "execution_count": null,
   "id": "94e0b7064cfb2c62",
   "metadata": {
    "collapsed": false
   },
   "outputs": [],
   "source": []
  }
 ],
 "metadata": {
  "kernelspec": {
   "display_name": "Python 3",
   "language": "python",
   "name": "python3"
  },
  "language_info": {
   "codemirror_mode": {
    "name": "ipython",
    "version": 3
   },
   "file_extension": ".py",
   "mimetype": "text/x-python",
   "name": "python",
   "nbconvert_exporter": "python",
   "pygments_lexer": "ipython3",
   "version": "3.10.14"
  }
 },
 "nbformat": 4,
 "nbformat_minor": 5
}
