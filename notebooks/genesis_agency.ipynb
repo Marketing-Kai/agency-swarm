{
 "cells": [
  {
   "cell_type": "code",
   "execution_count": 1,
   "id": "dfd7b2e0ab798deb",
   "metadata": {
    "ExecuteTime": {
     "end_time": "2024-01-20T02:55:04.842809Z",
     "start_time": "2024-01-20T02:55:03.742371Z"
    },
    "collapsed": false
   },
   "outputs": [
    {
     "name": "stdout",
     "output_type": "stream",
     "text": [
      "Requirement already satisfied: agency-swarm in /Users/khu/anaconda3/envs/agency-swarm/lib/python3.10/site-packages (0.2.5)\n",
      "Requirement already satisfied: selenium in /Users/khu/anaconda3/envs/agency-swarm/lib/python3.10/site-packages (4.22.0)\n",
      "Requirement already satisfied: webdriver-manager in /Users/khu/anaconda3/envs/agency-swarm/lib/python3.10/site-packages (4.0.1)\n",
      "Requirement already satisfied: selenium_stealth in /Users/khu/anaconda3/envs/agency-swarm/lib/python3.10/site-packages (1.0.6)\n",
      "Requirement already satisfied: gradio in /Users/khu/anaconda3/envs/agency-swarm/lib/python3.10/site-packages (4.38.1)\n",
      "Requirement already satisfied: openai==1.30.4 in /Users/khu/anaconda3/envs/agency-swarm/lib/python3.10/site-packages (from agency-swarm) (1.30.4)\n",
      "Requirement already satisfied: instructor==1.3.2 in /Users/khu/anaconda3/envs/agency-swarm/lib/python3.10/site-packages (from agency-swarm) (1.3.2)\n",
      "Requirement already satisfied: datamodel-code-generator==0.25.6 in /Users/khu/anaconda3/envs/agency-swarm/lib/python3.10/site-packages (from agency-swarm) (0.25.6)\n",
      "Requirement already satisfied: deepdiff==6.7.1 in /Users/khu/anaconda3/envs/agency-swarm/lib/python3.10/site-packages (from agency-swarm) (6.7.1)\n",
      "Requirement already satisfied: termcolor==2.4.0 in /Users/khu/anaconda3/envs/agency-swarm/lib/python3.10/site-packages (from agency-swarm) (2.4.0)\n",
      "Requirement already satisfied: python-dotenv==1.0.1 in /Users/khu/anaconda3/envs/agency-swarm/lib/python3.10/site-packages (from agency-swarm) (1.0.1)\n",
      "Requirement already satisfied: rich==13.7.1 in /Users/khu/anaconda3/envs/agency-swarm/lib/python3.10/site-packages (from agency-swarm) (13.7.1)\n",
      "Requirement already satisfied: jsonref==1.1.0 in /Users/khu/anaconda3/envs/agency-swarm/lib/python3.10/site-packages (from agency-swarm) (1.1.0)\n",
      "Requirement already satisfied: argcomplete<4.0,>=1.10 in /Users/khu/anaconda3/envs/agency-swarm/lib/python3.10/site-packages (from datamodel-code-generator==0.25.6->agency-swarm) (3.4.0)\n",
      "Requirement already satisfied: black>=19.10b0 in /Users/khu/anaconda3/envs/agency-swarm/lib/python3.10/site-packages (from datamodel-code-generator==0.25.6->agency-swarm) (24.4.2)\n",
      "Requirement already satisfied: genson<2.0,>=1.2.1 in /Users/khu/anaconda3/envs/agency-swarm/lib/python3.10/site-packages (from datamodel-code-generator==0.25.6->agency-swarm) (1.3.0)\n",
      "Requirement already satisfied: inflect<6.0,>=4.1.0 in /Users/khu/anaconda3/envs/agency-swarm/lib/python3.10/site-packages (from datamodel-code-generator==0.25.6->agency-swarm) (5.6.2)\n",
      "Requirement already satisfied: isort<6.0,>=4.3.21 in /Users/khu/anaconda3/envs/agency-swarm/lib/python3.10/site-packages (from datamodel-code-generator==0.25.6->agency-swarm) (5.13.2)\n",
      "Requirement already satisfied: jinja2<4.0,>=2.10.1 in /Users/khu/anaconda3/envs/agency-swarm/lib/python3.10/site-packages (from datamodel-code-generator==0.25.6->agency-swarm) (3.1.4)\n",
      "Requirement already satisfied: packaging in /Users/khu/anaconda3/envs/agency-swarm/lib/python3.10/site-packages (from datamodel-code-generator==0.25.6->agency-swarm) (24.1)\n",
      "Requirement already satisfied: pydantic!=2.4.0,<3.0,>=1.9.0 in /Users/khu/anaconda3/envs/agency-swarm/lib/python3.10/site-packages (from pydantic[email]!=2.4.0,<3.0,>=1.9.0; python_version >= \"3.10\" and python_version < \"3.11\"->datamodel-code-generator==0.25.6->agency-swarm) (2.8.2)\n",
      "Requirement already satisfied: pyyaml>=6.0.1 in /Users/khu/anaconda3/envs/agency-swarm/lib/python3.10/site-packages (from datamodel-code-generator==0.25.6->agency-swarm) (6.0.1)\n",
      "Requirement already satisfied: toml<1.0.0,>=0.10.0 in /Users/khu/anaconda3/envs/agency-swarm/lib/python3.10/site-packages (from datamodel-code-generator==0.25.6->agency-swarm) (0.10.2)\n",
      "Requirement already satisfied: ordered-set<4.2.0,>=4.0.2 in /Users/khu/anaconda3/envs/agency-swarm/lib/python3.10/site-packages (from deepdiff==6.7.1->agency-swarm) (4.1.0)\n",
      "Requirement already satisfied: aiohttp<4.0.0,>=3.9.1 in /Users/khu/anaconda3/envs/agency-swarm/lib/python3.10/site-packages (from instructor==1.3.2->agency-swarm) (3.9.5)\n",
      "Requirement already satisfied: docstring-parser<0.17,>=0.16 in /Users/khu/anaconda3/envs/agency-swarm/lib/python3.10/site-packages (from instructor==1.3.2->agency-swarm) (0.16)\n",
      "Requirement already satisfied: pydantic-core<3.0.0,>=2.18.0 in /Users/khu/anaconda3/envs/agency-swarm/lib/python3.10/site-packages (from instructor==1.3.2->agency-swarm) (2.20.1)\n",
      "Requirement already satisfied: tenacity<9.0.0,>=8.2.3 in /Users/khu/anaconda3/envs/agency-swarm/lib/python3.10/site-packages (from instructor==1.3.2->agency-swarm) (8.5.0)\n",
      "Requirement already satisfied: typer<1.0.0,>=0.9.0 in /Users/khu/anaconda3/envs/agency-swarm/lib/python3.10/site-packages (from instructor==1.3.2->agency-swarm) (0.12.3)\n",
      "Requirement already satisfied: anyio<5,>=3.5.0 in /Users/khu/anaconda3/envs/agency-swarm/lib/python3.10/site-packages (from openai==1.30.4->agency-swarm) (4.4.0)\n",
      "Requirement already satisfied: distro<2,>=1.7.0 in /Users/khu/anaconda3/envs/agency-swarm/lib/python3.10/site-packages (from openai==1.30.4->agency-swarm) (1.9.0)\n",
      "Requirement already satisfied: httpx<1,>=0.23.0 in /Users/khu/anaconda3/envs/agency-swarm/lib/python3.10/site-packages (from openai==1.30.4->agency-swarm) (0.27.0)\n",
      "Requirement already satisfied: sniffio in /Users/khu/anaconda3/envs/agency-swarm/lib/python3.10/site-packages (from openai==1.30.4->agency-swarm) (1.3.1)\n",
      "Requirement already satisfied: tqdm>4 in /Users/khu/anaconda3/envs/agency-swarm/lib/python3.10/site-packages (from openai==1.30.4->agency-swarm) (4.66.4)\n",
      "Requirement already satisfied: typing-extensions<5,>=4.7 in /Users/khu/anaconda3/envs/agency-swarm/lib/python3.10/site-packages (from openai==1.30.4->agency-swarm) (4.11.0)\n",
      "Requirement already satisfied: markdown-it-py>=2.2.0 in /Users/khu/anaconda3/envs/agency-swarm/lib/python3.10/site-packages (from rich==13.7.1->agency-swarm) (3.0.0)\n",
      "Requirement already satisfied: pygments<3.0.0,>=2.13.0 in /Users/khu/anaconda3/envs/agency-swarm/lib/python3.10/site-packages (from rich==13.7.1->agency-swarm) (2.15.1)\n",
      "Requirement already satisfied: urllib3<3,>=1.26 in /Users/khu/anaconda3/envs/agency-swarm/lib/python3.10/site-packages (from urllib3[socks]<3,>=1.26->selenium) (2.2.2)\n",
      "Requirement already satisfied: trio~=0.17 in /Users/khu/anaconda3/envs/agency-swarm/lib/python3.10/site-packages (from selenium) (0.26.0)\n",
      "Requirement already satisfied: trio-websocket~=0.9 in /Users/khu/anaconda3/envs/agency-swarm/lib/python3.10/site-packages (from selenium) (0.11.1)\n",
      "Requirement already satisfied: certifi>=2021.10.8 in /Users/khu/anaconda3/envs/agency-swarm/lib/python3.10/site-packages (from selenium) (2024.7.4)\n",
      "Requirement already satisfied: websocket-client>=1.8.0 in /Users/khu/anaconda3/envs/agency-swarm/lib/python3.10/site-packages (from selenium) (1.8.0)\n",
      "Requirement already satisfied: requests in /Users/khu/anaconda3/envs/agency-swarm/lib/python3.10/site-packages (from webdriver-manager) (2.32.3)\n",
      "Requirement already satisfied: aiofiles<24.0,>=22.0 in /Users/khu/anaconda3/envs/agency-swarm/lib/python3.10/site-packages (from gradio) (23.2.1)\n",
      "Requirement already satisfied: altair<6.0,>=5.0 in /Users/khu/anaconda3/envs/agency-swarm/lib/python3.10/site-packages (from gradio) (5.3.0)\n",
      "Requirement already satisfied: fastapi in /Users/khu/anaconda3/envs/agency-swarm/lib/python3.10/site-packages (from gradio) (0.111.1)\n",
      "Requirement already satisfied: ffmpy in /Users/khu/anaconda3/envs/agency-swarm/lib/python3.10/site-packages (from gradio) (0.3.2)\n",
      "Requirement already satisfied: gradio-client==1.1.0 in /Users/khu/anaconda3/envs/agency-swarm/lib/python3.10/site-packages (from gradio) (1.1.0)\n",
      "Requirement already satisfied: huggingface-hub>=0.19.3 in /Users/khu/anaconda3/envs/agency-swarm/lib/python3.10/site-packages (from gradio) (0.23.4)\n",
      "Requirement already satisfied: importlib-resources<7.0,>=1.3 in /Users/khu/anaconda3/envs/agency-swarm/lib/python3.10/site-packages (from gradio) (6.4.0)\n",
      "Requirement already satisfied: markupsafe~=2.0 in /Users/khu/anaconda3/envs/agency-swarm/lib/python3.10/site-packages (from gradio) (2.1.5)\n",
      "Requirement already satisfied: matplotlib~=3.0 in /Users/khu/anaconda3/envs/agency-swarm/lib/python3.10/site-packages (from gradio) (3.9.1)\n",
      "Requirement already satisfied: numpy<3.0,>=1.0 in /Users/khu/anaconda3/envs/agency-swarm/lib/python3.10/site-packages (from gradio) (2.0.0)\n",
      "Requirement already satisfied: orjson~=3.0 in /Users/khu/anaconda3/envs/agency-swarm/lib/python3.10/site-packages (from gradio) (3.10.6)\n",
      "Requirement already satisfied: pandas<3.0,>=1.0 in /Users/khu/anaconda3/envs/agency-swarm/lib/python3.10/site-packages (from gradio) (2.2.2)\n",
      "Requirement already satisfied: pillow<11.0,>=8.0 in /Users/khu/anaconda3/envs/agency-swarm/lib/python3.10/site-packages (from gradio) (10.4.0)\n",
      "Requirement already satisfied: pydub in /Users/khu/anaconda3/envs/agency-swarm/lib/python3.10/site-packages (from gradio) (0.25.1)\n",
      "Requirement already satisfied: python-multipart>=0.0.9 in /Users/khu/anaconda3/envs/agency-swarm/lib/python3.10/site-packages (from gradio) (0.0.9)\n",
      "Requirement already satisfied: ruff>=0.2.2 in /Users/khu/anaconda3/envs/agency-swarm/lib/python3.10/site-packages (from gradio) (0.5.2)\n",
      "Requirement already satisfied: semantic-version~=2.0 in /Users/khu/anaconda3/envs/agency-swarm/lib/python3.10/site-packages (from gradio) (2.10.0)\n",
      "Requirement already satisfied: tomlkit==0.12.0 in /Users/khu/anaconda3/envs/agency-swarm/lib/python3.10/site-packages (from gradio) (0.12.0)\n",
      "Requirement already satisfied: uvicorn>=0.14.0 in /Users/khu/anaconda3/envs/agency-swarm/lib/python3.10/site-packages (from gradio) (0.30.1)\n",
      "Requirement already satisfied: fsspec in /Users/khu/anaconda3/envs/agency-swarm/lib/python3.10/site-packages (from gradio-client==1.1.0->gradio) (2024.6.1)\n",
      "Requirement already satisfied: websockets<12.0,>=10.0 in /Users/khu/anaconda3/envs/agency-swarm/lib/python3.10/site-packages (from gradio-client==1.1.0->gradio) (11.0.3)\n",
      "Requirement already satisfied: jsonschema>=3.0 in /Users/khu/anaconda3/envs/agency-swarm/lib/python3.10/site-packages (from altair<6.0,>=5.0->gradio) (4.23.0)\n",
      "Requirement already satisfied: toolz in /Users/khu/anaconda3/envs/agency-swarm/lib/python3.10/site-packages (from altair<6.0,>=5.0->gradio) (0.12.1)\n",
      "Requirement already satisfied: httpcore==1.* in /Users/khu/anaconda3/envs/agency-swarm/lib/python3.10/site-packages (from httpx<1,>=0.23.0->openai==1.30.4->agency-swarm) (1.0.5)\n",
      "Requirement already satisfied: idna in /Users/khu/anaconda3/envs/agency-swarm/lib/python3.10/site-packages (from httpx<1,>=0.23.0->openai==1.30.4->agency-swarm) (3.7)\n",
      "Requirement already satisfied: h11<0.15,>=0.13 in /Users/khu/anaconda3/envs/agency-swarm/lib/python3.10/site-packages (from httpcore==1.*->httpx<1,>=0.23.0->openai==1.30.4->agency-swarm) (0.14.0)\n",
      "Requirement already satisfied: filelock in /Users/khu/anaconda3/envs/agency-swarm/lib/python3.10/site-packages (from huggingface-hub>=0.19.3->gradio) (3.15.4)\n",
      "Requirement already satisfied: contourpy>=1.0.1 in /Users/khu/anaconda3/envs/agency-swarm/lib/python3.10/site-packages (from matplotlib~=3.0->gradio) (1.2.1)\n",
      "Requirement already satisfied: cycler>=0.10 in /Users/khu/anaconda3/envs/agency-swarm/lib/python3.10/site-packages (from matplotlib~=3.0->gradio) (0.12.1)\n",
      "Requirement already satisfied: fonttools>=4.22.0 in /Users/khu/anaconda3/envs/agency-swarm/lib/python3.10/site-packages (from matplotlib~=3.0->gradio) (4.53.1)\n",
      "Requirement already satisfied: kiwisolver>=1.3.1 in /Users/khu/anaconda3/envs/agency-swarm/lib/python3.10/site-packages (from matplotlib~=3.0->gradio) (1.4.5)\n",
      "Requirement already satisfied: pyparsing>=2.3.1 in /Users/khu/anaconda3/envs/agency-swarm/lib/python3.10/site-packages (from matplotlib~=3.0->gradio) (3.1.2)\n",
      "Requirement already satisfied: python-dateutil>=2.7 in /Users/khu/anaconda3/envs/agency-swarm/lib/python3.10/site-packages (from matplotlib~=3.0->gradio) (2.9.0.post0)\n",
      "Requirement already satisfied: pytz>=2020.1 in /Users/khu/anaconda3/envs/agency-swarm/lib/python3.10/site-packages (from pandas<3.0,>=1.0->gradio) (2024.1)\n",
      "Requirement already satisfied: tzdata>=2022.7 in /Users/khu/anaconda3/envs/agency-swarm/lib/python3.10/site-packages (from pandas<3.0,>=1.0->gradio) (2024.1)\n",
      "Requirement already satisfied: annotated-types>=0.4.0 in /Users/khu/anaconda3/envs/agency-swarm/lib/python3.10/site-packages (from pydantic!=2.4.0,<3.0,>=1.9.0->pydantic[email]!=2.4.0,<3.0,>=1.9.0; python_version >= \"3.10\" and python_version < \"3.11\"->datamodel-code-generator==0.25.6->agency-swarm) (0.7.0)\n",
      "Requirement already satisfied: attrs>=23.2.0 in /Users/khu/anaconda3/envs/agency-swarm/lib/python3.10/site-packages (from trio~=0.17->selenium) (23.2.0)\n",
      "Requirement already satisfied: sortedcontainers in /Users/khu/anaconda3/envs/agency-swarm/lib/python3.10/site-packages (from trio~=0.17->selenium) (2.4.0)\n",
      "Requirement already satisfied: outcome in /Users/khu/anaconda3/envs/agency-swarm/lib/python3.10/site-packages (from trio~=0.17->selenium) (1.3.0.post0)\n",
      "Requirement already satisfied: exceptiongroup in /Users/khu/anaconda3/envs/agency-swarm/lib/python3.10/site-packages (from trio~=0.17->selenium) (1.2.0)\n",
      "Requirement already satisfied: wsproto>=0.14 in /Users/khu/anaconda3/envs/agency-swarm/lib/python3.10/site-packages (from trio-websocket~=0.9->selenium) (1.2.0)\n",
      "Requirement already satisfied: click>=8.0.0 in /Users/khu/anaconda3/envs/agency-swarm/lib/python3.10/site-packages (from typer<1.0.0,>=0.9.0->instructor==1.3.2->agency-swarm) (8.1.7)\n",
      "Requirement already satisfied: shellingham>=1.3.0 in /Users/khu/anaconda3/envs/agency-swarm/lib/python3.10/site-packages (from typer<1.0.0,>=0.9.0->instructor==1.3.2->agency-swarm) (1.5.4)\n",
      "Requirement already satisfied: pysocks!=1.5.7,<2.0,>=1.5.6 in /Users/khu/anaconda3/envs/agency-swarm/lib/python3.10/site-packages (from urllib3[socks]<3,>=1.26->selenium) (1.7.1)\n",
      "Requirement already satisfied: starlette<0.38.0,>=0.37.2 in /Users/khu/anaconda3/envs/agency-swarm/lib/python3.10/site-packages (from fastapi->gradio) (0.37.2)\n",
      "Requirement already satisfied: fastapi-cli>=0.0.2 in /Users/khu/anaconda3/envs/agency-swarm/lib/python3.10/site-packages (from fastapi->gradio) (0.0.4)\n",
      "Requirement already satisfied: email_validator>=2.0.0 in /Users/khu/anaconda3/envs/agency-swarm/lib/python3.10/site-packages (from fastapi->gradio) (2.2.0)\n",
      "Requirement already satisfied: charset-normalizer<4,>=2 in /Users/khu/anaconda3/envs/agency-swarm/lib/python3.10/site-packages (from requests->webdriver-manager) (3.3.2)\n",
      "Requirement already satisfied: aiosignal>=1.1.2 in /Users/khu/anaconda3/envs/agency-swarm/lib/python3.10/site-packages (from aiohttp<4.0.0,>=3.9.1->instructor==1.3.2->agency-swarm) (1.3.1)\n",
      "Requirement already satisfied: frozenlist>=1.1.1 in /Users/khu/anaconda3/envs/agency-swarm/lib/python3.10/site-packages (from aiohttp<4.0.0,>=3.9.1->instructor==1.3.2->agency-swarm) (1.4.1)\n",
      "Requirement already satisfied: multidict<7.0,>=4.5 in /Users/khu/anaconda3/envs/agency-swarm/lib/python3.10/site-packages (from aiohttp<4.0.0,>=3.9.1->instructor==1.3.2->agency-swarm) (6.0.5)\n",
      "Requirement already satisfied: yarl<2.0,>=1.0 in /Users/khu/anaconda3/envs/agency-swarm/lib/python3.10/site-packages (from aiohttp<4.0.0,>=3.9.1->instructor==1.3.2->agency-swarm) (1.9.4)\n",
      "Requirement already satisfied: async-timeout<5.0,>=4.0 in /Users/khu/anaconda3/envs/agency-swarm/lib/python3.10/site-packages (from aiohttp<4.0.0,>=3.9.1->instructor==1.3.2->agency-swarm) (4.0.3)\n",
      "Requirement already satisfied: mypy-extensions>=0.4.3 in /Users/khu/anaconda3/envs/agency-swarm/lib/python3.10/site-packages (from black>=19.10b0->datamodel-code-generator==0.25.6->agency-swarm) (1.0.0)\n",
      "Requirement already satisfied: pathspec>=0.9.0 in /Users/khu/anaconda3/envs/agency-swarm/lib/python3.10/site-packages (from black>=19.10b0->datamodel-code-generator==0.25.6->agency-swarm) (0.12.1)\n",
      "Requirement already satisfied: platformdirs>=2 in /Users/khu/anaconda3/envs/agency-swarm/lib/python3.10/site-packages (from black>=19.10b0->datamodel-code-generator==0.25.6->agency-swarm) (3.10.0)\n",
      "Requirement already satisfied: tomli>=1.1.0 in /Users/khu/anaconda3/envs/agency-swarm/lib/python3.10/site-packages (from black>=19.10b0->datamodel-code-generator==0.25.6->agency-swarm) (2.0.1)\n",
      "Requirement already satisfied: dnspython>=2.0.0 in /Users/khu/anaconda3/envs/agency-swarm/lib/python3.10/site-packages (from email_validator>=2.0.0->fastapi->gradio) (2.6.1)\n",
      "Requirement already satisfied: jsonschema-specifications>=2023.03.6 in /Users/khu/anaconda3/envs/agency-swarm/lib/python3.10/site-packages (from jsonschema>=3.0->altair<6.0,>=5.0->gradio) (2023.12.1)\n",
      "Requirement already satisfied: referencing>=0.28.4 in /Users/khu/anaconda3/envs/agency-swarm/lib/python3.10/site-packages (from jsonschema>=3.0->altair<6.0,>=5.0->gradio) (0.35.1)\n",
      "Requirement already satisfied: rpds-py>=0.7.1 in /Users/khu/anaconda3/envs/agency-swarm/lib/python3.10/site-packages (from jsonschema>=3.0->altair<6.0,>=5.0->gradio) (0.19.0)\n",
      "Requirement already satisfied: mdurl~=0.1 in /Users/khu/anaconda3/envs/agency-swarm/lib/python3.10/site-packages (from markdown-it-py>=2.2.0->rich==13.7.1->agency-swarm) (0.1.2)\n",
      "Requirement already satisfied: six>=1.5 in /Users/khu/anaconda3/envs/agency-swarm/lib/python3.10/site-packages (from python-dateutil>=2.7->matplotlib~=3.0->gradio) (1.16.0)\n",
      "Requirement already satisfied: httptools>=0.5.0 in /Users/khu/anaconda3/envs/agency-swarm/lib/python3.10/site-packages (from uvicorn[standard]>=0.12.0->fastapi->gradio) (0.6.1)\n",
      "Requirement already satisfied: uvloop!=0.15.0,!=0.15.1,>=0.14.0 in /Users/khu/anaconda3/envs/agency-swarm/lib/python3.10/site-packages (from uvicorn[standard]>=0.12.0->fastapi->gradio) (0.19.0)\n",
      "Requirement already satisfied: watchfiles>=0.13 in /Users/khu/anaconda3/envs/agency-swarm/lib/python3.10/site-packages (from uvicorn[standard]>=0.12.0->fastapi->gradio) (0.22.0)\n"
     ]
    }
   ],
   "source": [
    "#!pip install agency-swarm selenium webdriver-manager selenium_stealth gradio"
   ]
  },
  {
   "cell_type": "code",
   "execution_count": 2,
   "id": "1ee6f9992fb209c4",
   "metadata": {
    "ExecuteTime": {
     "end_time": "2024-01-17T06:46:09.405416Z",
     "start_time": "2024-01-17T06:46:08.961556Z"
    },
    "collapsed": false
   },
   "outputs": [],
   "source": [
    "from agency_swarm import set_openai_key\n",
    "\n",
    "from dotenv import load_dotenv\n",
    "import os\n",
    "\n",
    "load_dotenv()\n",
    "api_key = os.getenv('OPENAI_API_KEY')\n",
    "from agency_swarm import set_openai_key\n",
    "set_openai_key(api_key)\n",
    "#set_openai_key(\"YOUR_OPENAI_API_KEY\")"
   ]
  },
  {
   "cell_type": "code",
   "execution_count": 3,
   "id": "6cafc0d9a51ed4c9",
   "metadata": {
    "ExecuteTime": {
     "end_time": "2024-01-17T06:46:09.407132Z",
     "start_time": "2024-01-17T06:46:09.334424Z"
    },
    "collapsed": false
   },
   "outputs": [],
   "source": [
    "from agency_swarm.agency.genesis import GenesisAgency"
   ]
  },
  {
   "cell_type": "code",
   "execution_count": 4,
   "id": "64b988e65898f6b3",
   "metadata": {
    "ExecuteTime": {
     "end_time": "2024-01-17T06:46:11.468684Z",
     "start_time": "2024-01-17T06:46:09.396088Z"
    },
    "collapsed": false
   },
   "outputs": [
    {
     "name": "stdout",
     "output_type": "stream",
     "text": [
      "Files folder '/Users/khu/anaconda3/envs/agency-swarm/lib/python3.10/site-packages/agency_swarm/agents/BrowsingAgent/files' is not a directory. Skipping...\n",
      "Schemas folder path is not a directory. Skipping...  /Users/khu/anaconda3/envs/agency-swarm/lib/python3.10/site-packages/agency_swarm/agents/BrowsingAgent/schemas\n",
      "Error parsing tool file ClickElement.py: invalid syntax (<string>, line 1). Skipping...\n",
      "Error parsing tool file GoBack.py: invalid syntax (<string>, line 1). Skipping...\n",
      "Error parsing tool file ExportFile.py: invalid syntax (<string>, line 1). Skipping...\n",
      "Error parsing tool file Scroll.py: invalid syntax (<string>, line 1). Skipping...\n",
      "Error parsing tool file ReadURL.py: invalid syntax (<string>, line 1). Skipping...\n",
      "Error parsing tool file SendKeys.py: invalid syntax (<string>, line 1). Skipping...\n",
      "Error parsing tool file WebPageSummarizer.py: invalid syntax (<string>, line 1). Skipping...\n",
      "Error parsing tool file SelectDropdown.py: invalid syntax (<string>, line 1). Skipping...\n",
      "Error parsing tool file SolveCaptcha.py: invalid syntax (<string>, line 1). Skipping...\n"
     ]
    }
   ],
   "source": [
    "test_agency = GenesisAgency()"
   ]
  },
  {
   "cell_type": "code",
   "execution_count": 5,
   "id": "c95ce4524b2b3ab4",
   "metadata": {
    "ExecuteTime": {
     "end_time": "2024-01-17T06:46:11.469085Z",
     "start_time": "2024-01-17T06:46:11.469003Z"
    },
    "collapsed": false
   },
   "outputs": [
    {
     "name": "stderr",
     "output_type": "stream",
     "text": [
      "/Users/khu/anaconda3/envs/agency-swarm/lib/python3.10/site-packages/tqdm/auto.py:21: TqdmWarning: IProgress not found. Please update jupyter and ipywidgets. See https://ipywidgets.readthedocs.io/en/stable/user_install.html\n",
      "  from .autonotebook import tqdm as notebook_tqdm\n"
     ]
    },
    {
     "name": "stdout",
     "output_type": "stream",
     "text": [
      "Running on local URL:  http://127.0.0.1:7860\n",
      "\n",
      "To create a public link, set `share=True` in `launch()`.\n"
     ]
    },
    {
     "data": {
      "text/html": [
       "<div><iframe src=\"http://127.0.0.1:7860/\" width=\"100%\" height=\"500\" allow=\"autoplay; camera; microphone; clipboard-read; clipboard-write;\" frameborder=\"0\" allowfullscreen></iframe></div>"
      ],
      "text/plain": [
       "<IPython.core.display.HTML object>"
      ]
     },
     "metadata": {},
     "output_type": "display_data"
    },
    {
     "data": {
      "text/plain": [
       "Gradio Blocks instance: 6 backend functions\n",
       "-------------------------------------------\n",
       "fn_index=0\n",
       " inputs:\n",
       " |-<gradio.components.textbox.Textbox object at 0x10c695ea0>\n",
       " |-<gradio.components.chatbot.Chatbot object at 0x10c64d360>\n",
       " outputs:\n",
       " |-<gradio.components.textbox.Textbox object at 0x10c695ea0>\n",
       " |-<gradio.components.chatbot.Chatbot object at 0x10c64d360>\n",
       "fn_index=1\n",
       " inputs:\n",
       " |-<gradio.components.textbox.Textbox object at 0x10c695ea0>\n",
       " |-<gradio.components.chatbot.Chatbot object at 0x10c64d360>\n",
       " outputs:\n",
       " |-<gradio.components.textbox.Textbox object at 0x10c695ea0>\n",
       " |-<gradio.components.chatbot.Chatbot object at 0x10c64d360>\n",
       "fn_index=2\n",
       " inputs:\n",
       " |-<gradio.components.dropdown.Dropdown object at 0x10c64e050>\n",
       " outputs:\n",
       "fn_index=3\n",
       " inputs:\n",
       " |-<gradio.templates.Files object at 0x10c6943a0>\n",
       " outputs:\n",
       "fn_index=4\n",
       " inputs:\n",
       " |-<gradio.components.textbox.Textbox object at 0x10c695ea0>\n",
       " |-<gradio.components.chatbot.Chatbot object at 0x10c64d360>\n",
       " outputs:\n",
       " |-<gradio.components.textbox.Textbox object at 0x10c695ea0>\n",
       " |-<gradio.components.chatbot.Chatbot object at 0x10c64d360>\n",
       "fn_index=5\n",
       " inputs:\n",
       " |-<gradio.components.textbox.Textbox object at 0x10c695ea0>\n",
       " |-<gradio.components.chatbot.Chatbot object at 0x10c64d360>\n",
       " outputs:\n",
       " |-<gradio.components.textbox.Textbox object at 0x10c695ea0>\n",
       " |-<gradio.components.chatbot.Chatbot object at 0x10c64d360>"
      ]
     },
     "execution_count": 5,
     "metadata": {},
     "output_type": "execute_result"
    },
    {
     "name": "stdout",
     "output_type": "stream",
     "text": [
      "Message files:  []\n",
      "Images:  []\n",
      "THREAD:[ user -> GenesisCEO ]: URL https://platform.openai.com/playground/assistants?assistant=asst_Xh2oxS53Um5JO7IJpawGtFR3&mode=assistant&thread=thread_rmWRag4eLjCuK0eqgrtTWQ9c\n"
     ]
    }
   ],
   "source": [
    "test_agency.demo_gradio()"
   ]
  }
 ],
 "metadata": {
  "kernelspec": {
   "display_name": "Python 3 (ipykernel)",
   "language": "python",
   "name": "python3"
  },
  "language_info": {
   "codemirror_mode": {
    "name": "ipython",
    "version": 3
   },
   "file_extension": ".py",
   "mimetype": "text/x-python",
   "name": "python",
   "nbconvert_exporter": "python",
   "pygments_lexer": "ipython3",
   "version": "3.10.14"
  }
 },
 "nbformat": 4,
 "nbformat_minor": 5
}
