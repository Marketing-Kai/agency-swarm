{
 "cells": [
  {
   "cell_type": "code",
   "execution_count": 11,
   "id": "dfd7b2e0ab798deb",
   "metadata": {
    "ExecuteTime": {
     "end_time": "2024-01-20T02:55:04.842809Z",
     "start_time": "2024-01-20T02:55:03.742371Z"
    },
    "collapsed": false
   },
   "outputs": [],
   "source": [
    "#!pip install agency-swarm selenium webdriver-manager selenium_stealth gradio"
   ]
  },
  {
   "cell_type": "code",
   "execution_count": 12,
   "id": "1ee6f9992fb209c4",
   "metadata": {
    "ExecuteTime": {
     "end_time": "2024-01-17T06:46:09.405416Z",
     "start_time": "2024-01-17T06:46:08.961556Z"
    },
    "collapsed": false
   },
   "outputs": [],
   "source": [
    "from agency_swarm import set_openai_key\n",
    "\n",
    "from dotenv import load_dotenv\n",
    "import os\n",
    "\n",
    "load_dotenv()\n",
    "api_key = os.getenv('OPENAI_API_KEY')\n",
    "from agency_swarm import set_openai_key\n",
    "set_openai_key(api_key)\n",
    "#set_openai_key(\"YOUR_OPENAI_API_KEY\")"
   ]
  },
  {
   "cell_type": "code",
   "execution_count": 13,
   "id": "6cafc0d9a51ed4c9",
   "metadata": {
    "ExecuteTime": {
     "end_time": "2024-01-17T06:46:09.407132Z",
     "start_time": "2024-01-17T06:46:09.334424Z"
    },
    "collapsed": false
   },
   "outputs": [],
   "source": [
    "from agency_swarm.agency.genesis import GenesisAgency"
   ]
  },
  {
   "cell_type": "code",
   "execution_count": 14,
   "id": "64b988e65898f6b3",
   "metadata": {
    "ExecuteTime": {
     "end_time": "2024-01-17T06:46:11.468684Z",
     "start_time": "2024-01-17T06:46:09.396088Z"
    },
    "collapsed": false
   },
   "outputs": [
    {
     "name": "stdout",
     "output_type": "stream",
     "text": [
      "Updating agent... ToolCreator\n",
      "Updating agent... AgentCreator\n",
      "Updating agent... OpenAPICreator\n",
      "Updating agent... BrowsingAgent\n"
     ]
    }
   ],
   "source": [
    "test_agency = GenesisAgency()"
   ]
  },
  {
   "cell_type": "code",
   "execution_count": 15,
   "id": "c95ce4524b2b3ab4",
   "metadata": {
    "ExecuteTime": {
     "end_time": "2024-01-17T06:46:11.469085Z",
     "start_time": "2024-01-17T06:46:11.469003Z"
    },
    "collapsed": false
   },
   "outputs": [
    {
     "name": "stdout",
     "output_type": "stream",
     "text": [
      "Running on local URL:  http://127.0.0.1:7862\n",
      "\n",
      "To create a public link, set `share=True` in `launch()`.\n"
     ]
    },
    {
     "data": {
      "text/html": [
       "<div><iframe src=\"http://127.0.0.1:7862/\" width=\"100%\" height=\"500\" allow=\"autoplay; camera; microphone; clipboard-read; clipboard-write;\" frameborder=\"0\" allowfullscreen></iframe></div>"
      ],
      "text/plain": [
       "<IPython.core.display.HTML object>"
      ]
     },
     "metadata": {},
     "output_type": "display_data"
    },
    {
     "data": {
      "text/plain": [
       "Gradio Blocks instance: 6 backend functions\n",
       "-------------------------------------------\n",
       "fn_index=0\n",
       " inputs:\n",
       " |-<gradio.components.textbox.Textbox object at 0x11a06ad10>\n",
       " |-<gradio.components.chatbot.Chatbot object at 0x11a10fc40>\n",
       " outputs:\n",
       " |-<gradio.components.textbox.Textbox object at 0x11a06ad10>\n",
       " |-<gradio.components.chatbot.Chatbot object at 0x11a10fc40>\n",
       "fn_index=1\n",
       " inputs:\n",
       " |-<gradio.components.textbox.Textbox object at 0x11a06ad10>\n",
       " |-<gradio.components.chatbot.Chatbot object at 0x11a10fc40>\n",
       " outputs:\n",
       " |-<gradio.components.textbox.Textbox object at 0x11a06ad10>\n",
       " |-<gradio.components.chatbot.Chatbot object at 0x11a10fc40>\n",
       "fn_index=2\n",
       " inputs:\n",
       " |-<gradio.components.dropdown.Dropdown object at 0x11a06bf70>\n",
       " outputs:\n",
       "fn_index=3\n",
       " inputs:\n",
       " |-<gradio.templates.Files object at 0x11a08ef20>\n",
       " outputs:\n",
       "fn_index=4\n",
       " inputs:\n",
       " |-<gradio.components.textbox.Textbox object at 0x11a06ad10>\n",
       " |-<gradio.components.chatbot.Chatbot object at 0x11a10fc40>\n",
       " outputs:\n",
       " |-<gradio.components.textbox.Textbox object at 0x11a06ad10>\n",
       " |-<gradio.components.chatbot.Chatbot object at 0x11a10fc40>\n",
       "fn_index=5\n",
       " inputs:\n",
       " |-<gradio.components.textbox.Textbox object at 0x11a06ad10>\n",
       " |-<gradio.components.chatbot.Chatbot object at 0x11a10fc40>\n",
       " outputs:\n",
       " |-<gradio.components.textbox.Textbox object at 0x11a06ad10>\n",
       " |-<gradio.components.chatbot.Chatbot object at 0x11a10fc40>"
      ]
     },
     "execution_count": 15,
     "metadata": {},
     "output_type": "execute_result"
    },
    {
     "name": "stdout",
     "output_type": "stream",
     "text": [
      "Message files:  []\n",
      "Images:  []\n",
      "THREAD:[ user -> GenesisCEO ]: URL https://platform.openai.com/playground/assistants?assistant=asst_8PXo2HQoFvgkQNhjHJ7pG1W1&mode=assistant&thread=thread_bggQwO0uxVjL21JUHRbRNsWg\n",
      "Message files:  []\n",
      "Images:  []\n",
      "THREAD:[ user -> GenesisCEO ]: URL https://platform.openai.com/playground/assistants?assistant=asst_8PXo2HQoFvgkQNhjHJ7pG1W1&mode=assistant&thread=thread_bggQwO0uxVjL21JUHRbRNsWg\n",
      "Message files:  []\n",
      "Images:  []\n",
      "THREAD:[ user -> GenesisCEO ]: URL https://platform.openai.com/playground/assistants?assistant=asst_8PXo2HQoFvgkQNhjHJ7pG1W1&mode=assistant&thread=thread_bggQwO0uxVjL21JUHRbRNsWg\n",
      "Message files:  []\n",
      "Images:  []\n",
      "THREAD:[ user -> GenesisCEO ]: URL https://platform.openai.com/playground/assistants?assistant=asst_8PXo2HQoFvgkQNhjHJ7pG1W1&mode=assistant&thread=thread_bggQwO0uxVjL21JUHRbRNsWg\n",
      "Message files:  []\n",
      "Images:  []\n",
      "THREAD:[ user -> GenesisCEO ]: URL https://platform.openai.com/playground/assistants?assistant=asst_8PXo2HQoFvgkQNhjHJ7pG1W1&mode=assistant&thread=thread_bggQwO0uxVjL21JUHRbRNsWg\n",
      "Message files:  []\n",
      "Images:  []\n",
      "THREAD:[ user -> GenesisCEO ]: URL https://platform.openai.com/playground/assistants?assistant=asst_8PXo2HQoFvgkQNhjHJ7pG1W1&mode=assistant&thread=thread_bggQwO0uxVjL21JUHRbRNsWg\n",
      "Message files:  []\n",
      "Images:  []\n",
      "THREAD:[ user -> GenesisCEO ]: URL https://platform.openai.com/playground/assistants?assistant=asst_8PXo2HQoFvgkQNhjHJ7pG1W1&mode=assistant&thread=thread_bggQwO0uxVjL21JUHRbRNsWg\n",
      "Message files:  []\n",
      "Images:  []\n",
      "THREAD:[ user -> GenesisCEO ]: URL https://platform.openai.com/playground/assistants?assistant=asst_8PXo2HQoFvgkQNhjHJ7pG1W1&mode=assistant&thread=thread_bggQwO0uxVjL21JUHRbRNsWg\n",
      "Message files:  []\n",
      "Images:  []\n",
      "THREAD:[ user -> GenesisCEO ]: URL https://platform.openai.com/playground/assistants?assistant=asst_8PXo2HQoFvgkQNhjHJ7pG1W1&mode=assistant&thread=thread_bggQwO0uxVjL21JUHRbRNsWg\n",
      "THREAD:[ GenesisCEO -> AgentCreator ]: URL https://platform.openai.com/playground/assistants?assistant=asst_BmgOUh808lpeSEfXwcNgAnmF&mode=assistant&thread=thread_Sd7rWLFYfdAICIbRk6z4o2uS\n",
      "Agent folder created successfully.\n",
      "Import it with: from VisionaryCEO import VisionaryCEO\n",
      "THREAD:[ GenesisCEO -> AgentCreator ]: URL https://platform.openai.com/playground/assistants?assistant=asst_BmgOUh808lpeSEfXwcNgAnmF&mode=assistant&thread=thread_Sd7rWLFYfdAICIbRk6z4o2uS\n",
      "Agent folder created successfully.\n",
      "Import it with: from OpsManager import OpsManager\n",
      "THREAD:[ AgentCreator -> ToolCreator ]: URL https://platform.openai.com/playground/assistants?assistant=asst_U2DyolsyCk1S0dtAK7CtBmyg&mode=assistant&thread=thread_62tGXZsNvVGFxrGPy9ZWPLoZ\n"
     ]
    }
   ],
   "source": [
    "test_agency.demo_gradio()"
   ]
  }
 ],
 "metadata": {
  "kernelspec": {
   "display_name": "Python 3 (ipykernel)",
   "language": "python",
   "name": "python3"
  },
  "language_info": {
   "codemirror_mode": {
    "name": "ipython",
    "version": 3
   },
   "file_extension": ".py",
   "mimetype": "text/x-python",
   "name": "python",
   "nbconvert_exporter": "python",
   "pygments_lexer": "ipython3",
   "version": "3.10.14"
  }
 },
 "nbformat": 4,
 "nbformat_minor": 5
}
