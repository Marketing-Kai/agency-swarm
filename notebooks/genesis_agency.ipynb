{
 "cells": [
  {
   "cell_type": "code",
   "execution_count": 6,
   "id": "dfd7b2e0ab798deb",
   "metadata": {
    "ExecuteTime": {
     "end_time": "2024-01-20T02:55:04.842809Z",
     "start_time": "2024-01-20T02:55:03.742371Z"
    },
    "collapsed": false
   },
   "outputs": [],
   "source": [
    "#!pip install agency-swarm selenium webdriver-manager selenium_stealth gradio"
   ]
  },
  {
   "cell_type": "code",
   "execution_count": 7,
   "id": "1ee6f9992fb209c4",
   "metadata": {
    "ExecuteTime": {
     "end_time": "2024-01-17T06:46:09.405416Z",
     "start_time": "2024-01-17T06:46:08.961556Z"
    },
    "collapsed": false
   },
   "outputs": [],
   "source": [
    "from agency_swarm import set_openai_key\n",
    "\n",
    "from dotenv import load_dotenv\n",
    "import os\n",
    "\n",
    "load_dotenv()\n",
    "api_key = os.getenv('OPENAI_API_KEY')\n",
    "from agency_swarm import set_openai_key\n",
    "set_openai_key(api_key)\n",
    "#set_openai_key(\"YOUR_OPENAI_API_KEY\")"
   ]
  },
  {
   "cell_type": "code",
   "execution_count": 8,
   "id": "6cafc0d9a51ed4c9",
   "metadata": {
    "ExecuteTime": {
     "end_time": "2024-01-17T06:46:09.407132Z",
     "start_time": "2024-01-17T06:46:09.334424Z"
    },
    "collapsed": false
   },
   "outputs": [],
   "source": [
    "from agency_swarm.agency.genesis import GenesisAgency"
   ]
  },
  {
   "cell_type": "code",
   "execution_count": 9,
   "id": "64b988e65898f6b3",
   "metadata": {
    "ExecuteTime": {
     "end_time": "2024-01-17T06:46:11.468684Z",
     "start_time": "2024-01-17T06:46:09.396088Z"
    },
    "collapsed": false
   },
   "outputs": [
    {
     "name": "stdout",
     "output_type": "stream",
     "text": [
      "Files folder '/Users/khu/anaconda3/envs/agency-swarm/lib/python3.10/site-packages/agency_swarm/agents/BrowsingAgent/files' is not a directory. Skipping...\n",
      "Schemas folder path is not a directory. Skipping...  /Users/khu/anaconda3/envs/agency-swarm/lib/python3.10/site-packages/agency_swarm/agents/BrowsingAgent/schemas\n",
      "Error parsing tool file ClickElement.py: invalid syntax (<string>, line 1). Skipping...\n",
      "Error parsing tool file GoBack.py: invalid syntax (<string>, line 1). Skipping...\n",
      "Error parsing tool file ExportFile.py: invalid syntax (<string>, line 1). Skipping...\n",
      "Error parsing tool file Scroll.py: invalid syntax (<string>, line 1). Skipping...\n",
      "Error parsing tool file ReadURL.py: invalid syntax (<string>, line 1). Skipping...\n",
      "Error parsing tool file SendKeys.py: invalid syntax (<string>, line 1). Skipping...\n",
      "Error parsing tool file WebPageSummarizer.py: invalid syntax (<string>, line 1). Skipping...\n",
      "Error parsing tool file SelectDropdown.py: invalid syntax (<string>, line 1). Skipping...\n",
      "Error parsing tool file SolveCaptcha.py: invalid syntax (<string>, line 1). Skipping...\n",
      "Updating agent... GenesisCEO\n"
     ]
    }
   ],
   "source": [
    "test_agency = GenesisAgency()"
   ]
  },
  {
   "cell_type": "code",
   "execution_count": 10,
   "id": "c95ce4524b2b3ab4",
   "metadata": {
    "ExecuteTime": {
     "end_time": "2024-01-17T06:46:11.469085Z",
     "start_time": "2024-01-17T06:46:11.469003Z"
    },
    "collapsed": false
   },
   "outputs": [
    {
     "name": "stdout",
     "output_type": "stream",
     "text": [
      "Running on local URL:  http://127.0.0.1:7861\n",
      "\n",
      "To create a public link, set `share=True` in `launch()`.\n"
     ]
    },
    {
     "data": {
      "text/html": [
       "<div><iframe src=\"http://127.0.0.1:7861/\" width=\"100%\" height=\"500\" allow=\"autoplay; camera; microphone; clipboard-read; clipboard-write;\" frameborder=\"0\" allowfullscreen></iframe></div>"
      ],
      "text/plain": [
       "<IPython.core.display.HTML object>"
      ]
     },
     "metadata": {},
     "output_type": "display_data"
    },
    {
     "data": {
      "text/plain": [
       "Gradio Blocks instance: 6 backend functions\n",
       "-------------------------------------------\n",
       "fn_index=0\n",
       " inputs:\n",
       " |-<gradio.components.textbox.Textbox object at 0x11a10c610>\n",
       " |-<gradio.components.chatbot.Chatbot object at 0x11a10e680>\n",
       " outputs:\n",
       " |-<gradio.components.textbox.Textbox object at 0x11a10c610>\n",
       " |-<gradio.components.chatbot.Chatbot object at 0x11a10e680>\n",
       "fn_index=1\n",
       " inputs:\n",
       " |-<gradio.components.textbox.Textbox object at 0x11a10c610>\n",
       " |-<gradio.components.chatbot.Chatbot object at 0x11a10e680>\n",
       " outputs:\n",
       " |-<gradio.components.textbox.Textbox object at 0x11a10c610>\n",
       " |-<gradio.components.chatbot.Chatbot object at 0x11a10e680>\n",
       "fn_index=2\n",
       " inputs:\n",
       " |-<gradio.components.dropdown.Dropdown object at 0x11a10cac0>\n",
       " outputs:\n",
       "fn_index=3\n",
       " inputs:\n",
       " |-<gradio.templates.Files object at 0x11a10d000>\n",
       " outputs:\n",
       "fn_index=4\n",
       " inputs:\n",
       " |-<gradio.components.textbox.Textbox object at 0x11a10c610>\n",
       " |-<gradio.components.chatbot.Chatbot object at 0x11a10e680>\n",
       " outputs:\n",
       " |-<gradio.components.textbox.Textbox object at 0x11a10c610>\n",
       " |-<gradio.components.chatbot.Chatbot object at 0x11a10e680>\n",
       "fn_index=5\n",
       " inputs:\n",
       " |-<gradio.components.textbox.Textbox object at 0x11a10c610>\n",
       " |-<gradio.components.chatbot.Chatbot object at 0x11a10e680>\n",
       " outputs:\n",
       " |-<gradio.components.textbox.Textbox object at 0x11a10c610>\n",
       " |-<gradio.components.chatbot.Chatbot object at 0x11a10e680>"
      ]
     },
     "execution_count": 10,
     "metadata": {},
     "output_type": "execute_result"
    },
    {
     "name": "stdout",
     "output_type": "stream",
     "text": [
      "Message files:  []\n",
      "Images:  []\n",
      "THREAD:[ user -> GenesisCEO ]: URL https://platform.openai.com/playground/assistants?assistant=asst_5IEHjJF2XfAlVAjQyCldN9eT&mode=assistant&thread=thread_fGf9hJPPS42g2CHPfduSo0H5\n",
      "Message files:  []\n",
      "Images:  []\n",
      "THREAD:[ user -> GenesisCEO ]: URL https://platform.openai.com/playground/assistants?assistant=asst_5IEHjJF2XfAlVAjQyCldN9eT&mode=assistant&thread=thread_fGf9hJPPS42g2CHPfduSo0H5\n",
      "Message files:  []\n",
      "Images:  []\n",
      "THREAD:[ user -> GenesisCEO ]: URL https://platform.openai.com/playground/assistants?assistant=asst_5IEHjJF2XfAlVAjQyCldN9eT&mode=assistant&thread=thread_fGf9hJPPS42g2CHPfduSo0H5\n"
     ]
    },
    {
     "name": "stderr",
     "output_type": "stream",
     "text": [
      "Exception in thread Thread-12 (get_completion_stream):\n",
      "Traceback (most recent call last):\n",
      "  File \"/Users/khu/anaconda3/envs/agency-swarm/lib/python3.10/threading.py\", line 1016, in _bootstrap_inner\n",
      "    self.run()\n",
      "  File \"/Users/khu/anaconda3/envs/agency-swarm/lib/python3.10/threading.py\", line 953, in run\n",
      "    self._target(*self._args, **self._kwargs)\n",
      "  File \"/Users/khu/anaconda3/envs/agency-swarm/lib/python3.10/site-packages/agency_swarm/agency/agency.py\", line 196, in get_completion_stream\n",
      "    next(res)\n",
      "  File \"/Users/khu/anaconda3/envs/agency-swarm/lib/python3.10/site-packages/agency_swarm/threads/thread.py\", line 140, in get_completion\n",
      "    item = next(output)\n",
      "  File \"/Users/khu/anaconda3/envs/agency-swarm/lib/python3.10/site-packages/agency_swarm/threads/thread.py\", line 190, in get_completion\n",
      "    self._submit_tool_outputs(tool_outputs, event_handler)\n",
      "  File \"/Users/khu/anaconda3/envs/agency-swarm/lib/python3.10/site-packages/agency_swarm/threads/thread.py\", line 304, in _submit_tool_outputs\n",
      "    with self.client.beta.threads.runs.submit_tool_outputs_stream(\n",
      "  File \"/Users/khu/anaconda3/envs/agency-swarm/lib/python3.10/site-packages/openai/lib/streaming/_assistants.py\", line 444, in __enter__\n",
      "    self.__stream = self.__api_request()\n",
      "  File \"/Users/khu/anaconda3/envs/agency-swarm/lib/python3.10/site-packages/openai/_base_client.py\", line 1240, in post\n",
      "    return cast(ResponseT, self.request(cast_to, opts, stream=stream, stream_cls=stream_cls))\n",
      "  File \"/Users/khu/anaconda3/envs/agency-swarm/lib/python3.10/site-packages/openai/_base_client.py\", line 921, in request\n",
      "    return self._request(\n",
      "  File \"/Users/khu/anaconda3/envs/agency-swarm/lib/python3.10/site-packages/openai/_base_client.py\", line 1020, in _request\n",
      "    raise self._make_status_error_from_response(err.response) from None\n",
      "openai.BadRequestError: Error code: 400 - {'error': {'message': \"Expected tool outputs for call_ids ['call_r6QvlFdIQ2rxaYWYC2mt1xNv'], got ['call_e1QYrmm3t409Id6IRKXgWhvi']\", 'type': 'invalid_request_error', 'param': None, 'code': None}}\n"
     ]
    },
    {
     "name": "stdout",
     "output_type": "stream",
     "text": [
      "Error: Error code: 400 - {'error': {'message': 'Invalid extension ipynb. Supported formats: \"c\", \"cpp\", \"css\", \"csv\", \"docx\", \"gif\", \"html\", \"java\", \"jpeg\", \"jpg\", \"js\", \"json\", \"md\", \"pdf\", \"php\", \"pkl\", \"png\", \"pptx\", \"py\", \"rb\", \"tar\", \"tex\", \"ts\", \"txt\", \"webp\", \"xlsx\", \"xml\", \"zip\"', 'type': 'invalid_request_error', 'param': None, 'code': None}}\n",
      "Message files:  []\n",
      "Images:  []\n",
      "THREAD:[ user -> GenesisCEO ]: URL https://platform.openai.com/playground/assistants?assistant=asst_5IEHjJF2XfAlVAjQyCldN9eT&mode=assistant&thread=thread_fGf9hJPPS42g2CHPfduSo0H5\n",
      "Message files:  []\n",
      "Images:  []\n",
      "THREAD:[ user -> GenesisCEO ]: URL https://platform.openai.com/playground/assistants?assistant=asst_5IEHjJF2XfAlVAjQyCldN9eT&mode=assistant&thread=thread_fGf9hJPPS42g2CHPfduSo0H5\n",
      "Message files:  []\n",
      "Images:  []\n",
      "THREAD:[ user -> GenesisCEO ]: URL https://platform.openai.com/playground/assistants?assistant=asst_5IEHjJF2XfAlVAjQyCldN9eT&mode=assistant&thread=thread_fGf9hJPPS42g2CHPfduSo0H5\n",
      "THREAD:[ GenesisCEO -> AgentCreator ]: URL https://platform.openai.com/playground/assistants?assistant=asst_BmgOUh808lpeSEfXwcNgAnmF&mode=assistant&thread=thread_IWusZ7vsOxlNpkSnvPDPER5f\n",
      "THREAD:[ GenesisCEO -> AgentCreator ]: URL https://platform.openai.com/playground/assistants?assistant=asst_BmgOUh808lpeSEfXwcNgAnmF&mode=assistant&thread=thread_IWusZ7vsOxlNpkSnvPDPER5f\n",
      "THREAD:[ GenesisCEO -> AgentCreator ]: URL https://platform.openai.com/playground/assistants?assistant=asst_BmgOUh808lpeSEfXwcNgAnmF&mode=assistant&thread=thread_IWusZ7vsOxlNpkSnvPDPER5f\n"
     ]
    }
   ],
   "source": [
    "test_agency.demo_gradio()"
   ]
  }
 ],
 "metadata": {
  "kernelspec": {
   "display_name": "Python 3 (ipykernel)",
   "language": "python",
   "name": "python3"
  },
  "language_info": {
   "codemirror_mode": {
    "name": "ipython",
    "version": 3
   },
   "file_extension": ".py",
   "mimetype": "text/x-python",
   "name": "python",
   "nbconvert_exporter": "python",
   "pygments_lexer": "ipython3",
   "version": "3.10.14"
  }
 },
 "nbformat": 4,
 "nbformat_minor": 5
}
