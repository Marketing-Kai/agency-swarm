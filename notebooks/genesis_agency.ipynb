{
 "cells": [
  {
   "cell_type": "code",
   "execution_count": 1,
   "id": "dfd7b2e0ab798deb",
   "metadata": {
    "ExecuteTime": {
     "end_time": "2024-01-20T02:55:04.842809Z",
     "start_time": "2024-01-20T02:55:03.742371Z"
    },
    "collapsed": false
   },
   "outputs": [
    {
     "name": "stdout",
     "output_type": "stream",
     "text": [
      "\u001b[33mWARNING: Retrying (Retry(total=4, connect=None, read=None, redirect=None, status=None)) after connection broken by 'NewConnectionError('<pip._vendor.urllib3.connection.HTTPSConnection object at 0x105773050>: Failed to establish a new connection: [Errno 8] nodename nor servname provided, or not known')': /simple/agency-swarm/\u001b[0m\u001b[33m\n",
      "\u001b[0m\u001b[33mWARNING: Retrying (Retry(total=3, connect=None, read=None, redirect=None, status=None)) after connection broken by 'NewConnectionError('<pip._vendor.urllib3.connection.HTTPSConnection object at 0x1053ff680>: Failed to establish a new connection: [Errno 8] nodename nor servname provided, or not known')': /simple/agency-swarm/\u001b[0m\u001b[33m\n",
      "\u001b[0m\u001b[33mWARNING: Retrying (Retry(total=2, connect=None, read=None, redirect=None, status=None)) after connection broken by 'NewConnectionError('<pip._vendor.urllib3.connection.HTTPSConnection object at 0x1058b0e90>: Failed to establish a new connection: [Errno 8] nodename nor servname provided, or not known')': /simple/agency-swarm/\u001b[0m\u001b[33m\n",
      "\u001b[0m\u001b[33mWARNING: Retrying (Retry(total=1, connect=None, read=None, redirect=None, status=None)) after connection broken by 'NewConnectionError('<pip._vendor.urllib3.connection.HTTPSConnection object at 0x1058b1160>: Failed to establish a new connection: [Errno 8] nodename nor servname provided, or not known')': /simple/agency-swarm/\u001b[0m\u001b[33m\n",
      "\u001b[0m\u001b[33mWARNING: Retrying (Retry(total=0, connect=None, read=None, redirect=None, status=None)) after connection broken by 'NewConnectionError('<pip._vendor.urllib3.connection.HTTPSConnection object at 0x1058b1580>: Failed to establish a new connection: [Errno 8] nodename nor servname provided, or not known')': /simple/agency-swarm/\u001b[0m\u001b[33m\n",
      "\u001b[0m\u001b[31mERROR: Could not find a version that satisfies the requirement agency-swarm (from versions: none)\u001b[0m\u001b[31m\n",
      "\u001b[0m\u001b[31mERROR: No matching distribution found for agency-swarm\u001b[0m\u001b[31m\n",
      "\u001b[0m"
     ]
    }
   ],
   "source": [
    "!pip install agency-swarm selenium webdriver-manager selenium_stealth gradio"
   ]
  },
  {
   "cell_type": "code",
   "execution_count": 2,
   "id": "1ee6f9992fb209c4",
   "metadata": {
    "ExecuteTime": {
     "end_time": "2024-01-17T06:46:09.405416Z",
     "start_time": "2024-01-17T06:46:08.961556Z"
    },
    "collapsed": false
   },
   "outputs": [
    {
     "ename": "SyntaxError",
     "evalue": "invalid syntax (4126286828.py, line 3)",
     "output_type": "error",
     "traceback": [
      "\u001b[0;36m  Cell \u001b[0;32mIn[2], line 3\u001b[0;36m\u001b[0m\n\u001b[0;31m    rom dotenv import load_dotenv\u001b[0m\n\u001b[0m        ^\u001b[0m\n\u001b[0;31mSyntaxError\u001b[0m\u001b[0;31m:\u001b[0m invalid syntax\n"
     ]
    }
   ],
   "source": [
    "from agency_swarm import set_openai_key\n",
    "\n",
    "rom dotenv import load_dotenv\n",
    "import os\n",
    "\n",
    "load_dotenv()\n",
    "api_key = os.getenv('OPENAI_API_KEY')\n",
    "from agency_swarm import set_openai_key\n",
    "set_openai_key(api_key)\n",
    "#set_openai_key(\"YOUR_OPENAI_API_KEY\")"
   ]
  },
  {
   "cell_type": "code",
   "execution_count": null,
   "id": "6cafc0d9a51ed4c9",
   "metadata": {
    "ExecuteTime": {
     "end_time": "2024-01-17T06:46:09.407132Z",
     "start_time": "2024-01-17T06:46:09.334424Z"
    },
    "collapsed": false
   },
   "outputs": [],
   "source": [
    "from agency_swarm.agency.genesis import GenesisAgency"
   ]
  },
  {
   "cell_type": "code",
   "execution_count": null,
   "id": "64b988e65898f6b3",
   "metadata": {
    "ExecuteTime": {
     "end_time": "2024-01-17T06:46:11.468684Z",
     "start_time": "2024-01-17T06:46:09.396088Z"
    },
    "collapsed": false
   },
   "outputs": [],
   "source": [
    "test_agency = GenesisAgency()"
   ]
  },
  {
   "cell_type": "code",
   "execution_count": null,
   "id": "c95ce4524b2b3ab4",
   "metadata": {
    "ExecuteTime": {
     "end_time": "2024-01-17T06:46:11.469085Z",
     "start_time": "2024-01-17T06:46:11.469003Z"
    },
    "collapsed": false
   },
   "outputs": [],
   "source": [
    "test_agency.demo_gradio()"
   ]
  }
 ],
 "metadata": {
  "kernelspec": {
   "display_name": "Python 3 (ipykernel)",
   "language": "python",
   "name": "python3"
  },
  "language_info": {
   "codemirror_mode": {
    "name": "ipython",
    "version": 3
   },
   "file_extension": ".py",
   "mimetype": "text/x-python",
   "name": "python",
   "nbconvert_exporter": "python",
   "pygments_lexer": "ipython3",
   "version": "3.12.4"
  }
 },
 "nbformat": 4,
 "nbformat_minor": 5
}
