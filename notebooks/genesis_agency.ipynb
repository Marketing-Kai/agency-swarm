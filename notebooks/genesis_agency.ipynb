{
 "cells": [
  {
   "cell_type": "code",
   "execution_count": 1,
   "id": "dfd7b2e0ab798deb",
   "metadata": {
    "ExecuteTime": {
     "end_time": "2024-01-20T02:55:04.842809Z",
     "start_time": "2024-01-20T02:55:03.742371Z"
    },
    "collapsed": false
   },
   "outputs": [],
   "source": [
    "#!pip install agency-swarm selenium webdriver-manager selenium_stealth gradio"
   ]
  },
  {
   "cell_type": "code",
   "execution_count": 2,
   "id": "1ee6f9992fb209c4",
   "metadata": {
    "ExecuteTime": {
     "end_time": "2024-01-17T06:46:09.405416Z",
     "start_time": "2024-01-17T06:46:08.961556Z"
    },
    "collapsed": false
   },
   "outputs": [],
   "source": [
    "from agency_swarm import set_openai_key\n",
    "\n",
    "from dotenv import load_dotenv\n",
    "import os\n",
    "\n",
    "load_dotenv()\n",
    "api_key = os.getenv('OPENAI_API_KEY')\n",
    "from agency_swarm import set_openai_key\n",
    "set_openai_key(api_key)\n",
    "#set_openai_key(\"YOUR_OPENAI_API_KEY\")"
   ]
  },
  {
   "cell_type": "code",
   "execution_count": 3,
   "id": "6cafc0d9a51ed4c9",
   "metadata": {
    "ExecuteTime": {
     "end_time": "2024-01-17T06:46:09.407132Z",
     "start_time": "2024-01-17T06:46:09.334424Z"
    },
    "collapsed": false
   },
   "outputs": [],
   "source": [
    "from agency_swarm.agency.genesis import GenesisAgency"
   ]
  },
  {
   "cell_type": "code",
   "execution_count": 4,
   "id": "64b988e65898f6b3",
   "metadata": {
    "ExecuteTime": {
     "end_time": "2024-01-17T06:46:11.468684Z",
     "start_time": "2024-01-17T06:46:09.396088Z"
    },
    "collapsed": false
   },
   "outputs": [
    {
     "name": "stdout",
     "output_type": "stream",
     "text": [
      "Files folder '/Users/khu/anaconda3/envs/agency-swarm/lib/python3.10/site-packages/agency_swarm/agents/BrowsingAgent/files' is not a directory. Skipping...\n",
      "Schemas folder path is not a directory. Skipping...  /Users/khu/anaconda3/envs/agency-swarm/lib/python3.10/site-packages/agency_swarm/agents/BrowsingAgent/schemas\n",
      "Error parsing tool file ClickElement.py: invalid syntax (<string>, line 1). Skipping...\n",
      "Error parsing tool file GoBack.py: invalid syntax (<string>, line 1). Skipping...\n",
      "Error parsing tool file ExportFile.py: invalid syntax (<string>, line 1). Skipping...\n",
      "Error parsing tool file Scroll.py: invalid syntax (<string>, line 1). Skipping...\n",
      "Error parsing tool file ReadURL.py: invalid syntax (<string>, line 1). Skipping...\n",
      "Error parsing tool file SendKeys.py: invalid syntax (<string>, line 1). Skipping...\n",
      "Error parsing tool file WebPageSummarizer.py: invalid syntax (<string>, line 1). Skipping...\n",
      "Error parsing tool file SelectDropdown.py: invalid syntax (<string>, line 1). Skipping...\n",
      "Error parsing tool file SolveCaptcha.py: invalid syntax (<string>, line 1). Skipping...\n",
      "Updating agent... GenesisCEO\n",
      "Updating agent... ToolCreator\n",
      "Updating agent... AgentCreator\n",
      "Updating agent... OpenAPICreator\n",
      "Updating agent... BrowsingAgent\n"
     ]
    }
   ],
   "source": [
    "test_agency = GenesisAgency()"
   ]
  },
  {
   "cell_type": "code",
   "execution_count": 5,
   "id": "c95ce4524b2b3ab4",
   "metadata": {
    "ExecuteTime": {
     "end_time": "2024-01-17T06:46:11.469085Z",
     "start_time": "2024-01-17T06:46:11.469003Z"
    },
    "collapsed": false
   },
   "outputs": [
    {
     "name": "stderr",
     "output_type": "stream",
     "text": [
      "/Users/khu/anaconda3/envs/agency-swarm/lib/python3.10/site-packages/tqdm/auto.py:21: TqdmWarning: IProgress not found. Please update jupyter and ipywidgets. See https://ipywidgets.readthedocs.io/en/stable/user_install.html\n",
      "  from .autonotebook import tqdm as notebook_tqdm\n"
     ]
    },
    {
     "name": "stdout",
     "output_type": "stream",
     "text": [
      "Running on local URL:  http://127.0.0.1:7860\n",
      "\n",
      "To create a public link, set `share=True` in `launch()`.\n"
     ]
    },
    {
     "data": {
      "text/html": [
       "<div><iframe src=\"http://127.0.0.1:7860/\" width=\"100%\" height=\"500\" allow=\"autoplay; camera; microphone; clipboard-read; clipboard-write;\" frameborder=\"0\" allowfullscreen></iframe></div>"
      ],
      "text/plain": [
       "<IPython.core.display.HTML object>"
      ]
     },
     "metadata": {},
     "output_type": "display_data"
    },
    {
     "data": {
      "text/plain": [
       "Gradio Blocks instance: 6 backend functions\n",
       "-------------------------------------------\n",
       "fn_index=0\n",
       " inputs:\n",
       " |-<gradio.components.textbox.Textbox object at 0x110d33370>\n",
       " |-<gradio.components.chatbot.Chatbot object at 0x110d32350>\n",
       " outputs:\n",
       " |-<gradio.components.textbox.Textbox object at 0x110d33370>\n",
       " |-<gradio.components.chatbot.Chatbot object at 0x110d32350>\n",
       "fn_index=1\n",
       " inputs:\n",
       " |-<gradio.components.textbox.Textbox object at 0x110d33370>\n",
       " |-<gradio.components.chatbot.Chatbot object at 0x110d32350>\n",
       " outputs:\n",
       " |-<gradio.components.textbox.Textbox object at 0x110d33370>\n",
       " |-<gradio.components.chatbot.Chatbot object at 0x110d32350>\n",
       "fn_index=2\n",
       " inputs:\n",
       " |-<gradio.components.dropdown.Dropdown object at 0x110d333a0>\n",
       " outputs:\n",
       "fn_index=3\n",
       " inputs:\n",
       " |-<gradio.templates.Files object at 0x110d4ace0>\n",
       " outputs:\n",
       "fn_index=4\n",
       " inputs:\n",
       " |-<gradio.components.textbox.Textbox object at 0x110d33370>\n",
       " |-<gradio.components.chatbot.Chatbot object at 0x110d32350>\n",
       " outputs:\n",
       " |-<gradio.components.textbox.Textbox object at 0x110d33370>\n",
       " |-<gradio.components.chatbot.Chatbot object at 0x110d32350>\n",
       "fn_index=5\n",
       " inputs:\n",
       " |-<gradio.components.textbox.Textbox object at 0x110d33370>\n",
       " |-<gradio.components.chatbot.Chatbot object at 0x110d32350>\n",
       " outputs:\n",
       " |-<gradio.components.textbox.Textbox object at 0x110d33370>\n",
       " |-<gradio.components.chatbot.Chatbot object at 0x110d32350>"
      ]
     },
     "execution_count": 5,
     "metadata": {},
     "output_type": "execute_result"
    },
    {
     "name": "stdout",
     "output_type": "stream",
     "text": [
      "Message files:  []\n",
      "Images:  []\n",
      "THREAD:[ user -> GenesisCEO ]: URL https://platform.openai.com/playground/assistants?assistant=asst_5IEHjJF2XfAlVAjQyCldN9eT&mode=assistant&thread=thread_vLfpdTW1ENHgdfwbQiBnsuyO\n",
      "Message files:  []\n",
      "Images:  []\n",
      "THREAD:[ user -> GenesisCEO ]: URL https://platform.openai.com/playground/assistants?assistant=asst_5IEHjJF2XfAlVAjQyCldN9eT&mode=assistant&thread=thread_vLfpdTW1ENHgdfwbQiBnsuyO\n",
      "Message files:  []\n",
      "Images:  []\n",
      "THREAD:[ user -> GenesisCEO ]: URL https://platform.openai.com/playground/assistants?assistant=asst_5IEHjJF2XfAlVAjQyCldN9eT&mode=assistant&thread=thread_vLfpdTW1ENHgdfwbQiBnsuyO\n",
      "Message files:  []\n",
      "Images:  []\n",
      "THREAD:[ user -> GenesisCEO ]: URL https://platform.openai.com/playground/assistants?assistant=asst_5IEHjJF2XfAlVAjQyCldN9eT&mode=assistant&thread=thread_vLfpdTW1ENHgdfwbQiBnsuyO\n",
      "THREAD:[ GenesisCEO -> AgentCreator ]: URL https://platform.openai.com/playground/assistants?assistant=asst_WqvLfQx23uKRpxl5cZTx1u8e&mode=assistant&thread=thread_MAgnp8JLf25cQwUMkeJZgMlz\n",
      "Agent folder created successfully.\n",
      "Import it with: from HealthCEO import HealthCEO\n",
      "THREAD:[ GenesisCEO -> AgentCreator ]: URL https://platform.openai.com/playground/assistants?assistant=asst_WqvLfQx23uKRpxl5cZTx1u8e&mode=assistant&thread=thread_MAgnp8JLf25cQwUMkeJZgMlz\n",
      "Agent folder created successfully.\n",
      "Import it with: from HealthDev import HealthDev\n",
      "THREAD:[ AgentCreator -> ToolCreator ]: URL https://platform.openai.com/playground/assistants?assistant=asst_mUACAWpgIEnmzblIQkcn0Lpk&mode=assistant&thread=thread_EqJEz4E2FMd3p62lb3ZuA3bp\n",
      "THREAD:[ GenesisCEO -> AgentCreator ]: URL https://platform.openai.com/playground/assistants?assistant=asst_WqvLfQx23uKRpxl5cZTx1u8e&mode=assistant&thread=thread_MAgnp8JLf25cQwUMkeJZgMlz\n",
      "Agent folder created successfully.\n",
      "Import it with: from HealthAnalyst import HealthAnalyst\n",
      "THREAD:[ AgentCreator -> ToolCreator ]: URL https://platform.openai.com/playground/assistants?assistant=asst_mUACAWpgIEnmzblIQkcn0Lpk&mode=assistant&thread=thread_EqJEz4E2FMd3p62lb3ZuA3bp\n",
      "Message files:  []\n",
      "Images:  []\n",
      "THREAD:[ user -> GenesisCEO ]: URL https://platform.openai.com/playground/assistants?assistant=asst_5IEHjJF2XfAlVAjQyCldN9eT&mode=assistant&thread=thread_vLfpdTW1ENHgdfwbQiBnsuyO\n",
      "Message files:  []\n",
      "Images:  []\n",
      "THREAD:[ user -> GenesisCEO ]: URL https://platform.openai.com/playground/assistants?assistant=asst_5IEHjJF2XfAlVAjQyCldN9eT&mode=assistant&thread=thread_vLfpdTW1ENHgdfwbQiBnsuyO\n",
      "Message files:  []\n",
      "Images:  []\n",
      "THREAD:[ user -> GenesisCEO ]: URL https://platform.openai.com/playground/assistants?assistant=asst_5IEHjJF2XfAlVAjQyCldN9eT&mode=assistant&thread=thread_vLfpdTW1ENHgdfwbQiBnsuyO\n",
      "Message files:  []\n",
      "Images:  []\n",
      "THREAD:[ user -> GenesisCEO ]: URL https://platform.openai.com/playground/assistants?assistant=asst_5IEHjJF2XfAlVAjQyCldN9eT&mode=assistant&thread=thread_vLfpdTW1ENHgdfwbQiBnsuyO\n",
      "Message files:  []\n",
      "Images:  []\n",
      "THREAD:[ user -> GenesisCEO ]: URL https://platform.openai.com/playground/assistants?assistant=asst_5IEHjJF2XfAlVAjQyCldN9eT&mode=assistant&thread=thread_vLfpdTW1ENHgdfwbQiBnsuyO\n",
      "THREAD:[ GenesisCEO -> AgentCreator ]: URL https://platform.openai.com/playground/assistants?assistant=asst_WqvLfQx23uKRpxl5cZTx1u8e&mode=assistant&thread=thread_MAgnp8JLf25cQwUMkeJZgMlz\n",
      "THREAD:[ GenesisCEO -> AgentCreator ]: URL https://platform.openai.com/playground/assistants?assistant=asst_WqvLfQx23uKRpxl5cZTx1u8e&mode=assistant&thread=thread_MAgnp8JLf25cQwUMkeJZgMlz\n",
      "THREAD:[ AgentCreator -> ToolCreator ]: URL https://platform.openai.com/playground/assistants?assistant=asst_mUACAWpgIEnmzblIQkcn0Lpk&mode=assistant&thread=thread_EqJEz4E2FMd3p62lb3ZuA3bp\n",
      "Message files:  []\n",
      "Images:  []\n",
      "THREAD:[ user -> GenesisCEO ]: URL https://platform.openai.com/playground/assistants?assistant=asst_5IEHjJF2XfAlVAjQyCldN9eT&mode=assistant&thread=thread_vLfpdTW1ENHgdfwbQiBnsuyO\n",
      "Message files:  []\n",
      "Images:  []\n",
      "THREAD:[ user -> GenesisCEO ]: URL https://platform.openai.com/playground/assistants?assistant=asst_5IEHjJF2XfAlVAjQyCldN9eT&mode=assistant&thread=thread_vLfpdTW1ENHgdfwbQiBnsuyO\n",
      "Message files:  []\n",
      "Images:  []\n",
      "THREAD:[ user -> GenesisCEO ]: URL https://platform.openai.com/playground/assistants?assistant=asst_5IEHjJF2XfAlVAjQyCldN9eT&mode=assistant&thread=thread_vLfpdTW1ENHgdfwbQiBnsuyO\n",
      "Message files:  []\n",
      "Images:  []\n",
      "THREAD:[ user -> GenesisCEO ]: URL https://platform.openai.com/playground/assistants?assistant=asst_5IEHjJF2XfAlVAjQyCldN9eT&mode=assistant&thread=thread_vLfpdTW1ENHgdfwbQiBnsuyO\n",
      "Message files:  []\n",
      "Images:  []\n",
      "THREAD:[ user -> GenesisCEO ]: URL https://platform.openai.com/playground/assistants?assistant=asst_5IEHjJF2XfAlVAjQyCldN9eT&mode=assistant&thread=thread_vLfpdTW1ENHgdfwbQiBnsuyO\n",
      "Message files:  []\n",
      "Images:  []\n",
      "THREAD:[ user -> GenesisCEO ]: URL https://platform.openai.com/playground/assistants?assistant=asst_5IEHjJF2XfAlVAjQyCldN9eT&mode=assistant&thread=thread_vLfpdTW1ENHgdfwbQiBnsuyO\n",
      "Message files:  []\n",
      "Images:  []\n",
      "THREAD:[ user -> GenesisCEO ]: URL https://platform.openai.com/playground/assistants?assistant=asst_5IEHjJF2XfAlVAjQyCldN9eT&mode=assistant&thread=thread_vLfpdTW1ENHgdfwbQiBnsuyO\n",
      "Message files:  []\n",
      "Images:  []\n",
      "THREAD:[ user -> GenesisCEO ]: URL https://platform.openai.com/playground/assistants?assistant=asst_5IEHjJF2XfAlVAjQyCldN9eT&mode=assistant&thread=thread_vLfpdTW1ENHgdfwbQiBnsuyO\n",
      "Message files:  []\n",
      "Images:  []\n",
      "THREAD:[ user -> GenesisCEO ]: URL https://platform.openai.com/playground/assistants?assistant=asst_5IEHjJF2XfAlVAjQyCldN9eT&mode=assistant&thread=thread_vLfpdTW1ENHgdfwbQiBnsuyO\n"
     ]
    }
   ],
   "source": [
    "test_agency.demo_gradio()"
   ]
  }
 ],
 "metadata": {
  "kernelspec": {
   "display_name": "Python 3 (ipykernel)",
   "language": "python",
   "name": "python3"
  },
  "language_info": {
   "codemirror_mode": {
    "name": "ipython",
    "version": 3
   },
   "file_extension": ".py",
   "mimetype": "text/x-python",
   "name": "python",
   "nbconvert_exporter": "python",
   "pygments_lexer": "ipython3",
   "version": "3.10.14"
  }
 },
 "nbformat": 4,
 "nbformat_minor": 5
}
